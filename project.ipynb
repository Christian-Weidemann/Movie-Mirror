{
 "cells": [
  {
   "cell_type": "markdown",
   "metadata": {},
   "source": [
    "### Importing libraries and modules"
   ]
  },
  {
   "cell_type": "code",
   "execution_count": 2,
   "metadata": {
    "ExecuteTime": {
     "end_time": "2023-12-20T20:14:09.044238400Z",
     "start_time": "2023-12-20T20:14:05.039341Z"
    }
   },
   "outputs": [],
   "source": [
    "import networkx as nx\n",
    "import os\n",
    "import pandas as pd\n",
    "import matplotlib.pyplot as plt\n",
    "from networkx.algorithms import bipartite\n",
    "from collections import Counter\n",
    "from networkx.linalg.graphmatrix import adjacency_matrix\n",
    "import numpy as np\n",
    "from statistics import mean\n",
    "from scipy.stats import pearsonr\n",
    "\n",
    "# Loading data pathes and I/O functions from script\n",
    "from scripts.io import load_movie_titles, load_raw_bipartite, save_projection, load_projection, save_edgelist, projection_path\n",
    "\n",
    "import scripts.recommend as rec"
   ]
  },
  {
   "cell_type": "markdown",
   "metadata": {},
   "source": [
    "### Loading bipartite graph and movie titles"
   ]
  },
  {
   "cell_type": "code",
   "execution_count": 3,
   "metadata": {
    "ExecuteTime": {
     "end_time": "2023-12-20T20:14:09.173344700Z",
     "start_time": "2023-12-20T20:14:09.045221400Z"
    }
   },
   "outputs": [
    {
     "name": "stdout",
     "output_type": "stream",
     "text": [
      "Movie titles loaded.\n",
      "Graph loaded.\n"
     ]
    }
   ],
   "source": [
    "title_dict, node_dict = load_movie_titles(\"movie-titles.txt\")\n",
    "G = load_raw_bipartite(\"full_bipartite.p\")\n",
    "\n",
    "# Split the graph into 2 sets: user and movie nodes\n",
    "user_nodes, movie_nodes = nx.algorithms.bipartite.basic.sets(G)"
   ]
  },
  {
   "cell_type": "markdown",
   "metadata": {},
   "source": [
    "### Simple weights projections"
   ]
  },
  {
   "cell_type": "code",
   "execution_count": 24,
   "metadata": {
    "ExecuteTime": {
     "end_time": "2023-12-20T20:14:09.766116600Z",
     "start_time": "2023-12-20T20:14:09.175384600Z"
    }
   },
   "outputs": [
    {
     "name": "stdout",
     "output_type": "stream",
     "text": [
      "Projection loaded.\n",
      "Projection loaded.\n"
     ]
    }
   ],
   "source": [
    "# Projecting on users\n",
    "simple_weights_users_path = \"simple_weights_users.p\"\n",
    "\n",
    "if os.path.exists(projection_path+simple_weights_users_path):\n",
    "    simple_weights_users = load_projection(simple_weights_users_path)\n",
    "else:\n",
    "    simple_weights_users = bipartite.weighted_projected_graph(G, user_nodes, ratio=True)\n",
    "    save_projection(simple_weights_users, simple_weights_users_path)\n",
    "\n",
    "# Projecting on movies\n",
    "simple_weights_movies_path = \"simple_weights_movies.p\"\n",
    "\n",
    "if os.path.exists(projection_path+simple_weights_movies_path):\n",
    "    simple_weights_movies = load_projection(simple_weights_movies_path)\n",
    "else:\n",
    "    simple_weights_movies = bipartite.weighted_projected_graph(G, movie_nodes, ratio=True)\n",
    "    save_projection(simple_weights_movies, simple_weights_movies_path)"
   ]
  },
  {
   "cell_type": "markdown",
   "metadata": {},
   "source": [
    "### Research Question\n",
    "How can we recommend movies, given movies you like?\n",
    "\n",
    "#### Idea for an algorithm where projections take ratings into account in some way:\n",
    "1. Get input of movies you like, M, which have ratings by users U\n",
    "2. Project U and M onto U to get U1\n",
    "3. Project U1, and all movies they rated, onto the movies to get M1\n",
    "4. Recommend, from M1, the highest weight neighbor(s) of M.\n",
    "\n",
    "#### Other ideas:\n",
    "* Sample users who liked the movie(s), project onto their rated movies, recommend highest weight neighbor of liked movies.  \n",
    "* Construct similar movies to the ones you like, use this to find users like you, and iterate to converge on movies you will like.  \n",
    "\n",
    "Potential problem: if our sample of users is too large, we are likely to just recommend the most rated movies, not specific movies you would like. To test this, we could plot correlation between movie degree and likelihood to recommend.  \n",
    "\n",
    "Does backboning M1 improve recommendations?  \n",
    "\n",
    "How can we take movie genre into account for recommendation?  \n",
    "\n",
    "Are our movie recommendations associated with genre? i.e. does M1 have high genre\n",
    "homophily?  \n",
    "\n",
    "Are our recommendations largely popular or niche movies and why?  \n",
    "\n",
    "For evaluation, can we use cross validation by comparing users’ ratings to how likely we are to recommend each rated movie, based on a sample of movies they like?  "
   ]
  },
  {
   "cell_type": "markdown",
   "metadata": {},
   "source": [
    "# Our Projection Methods\n",
    "\n",
    "## Simple Weights\n",
    "\n",
    "$$w_{m1,m2} = \\sum_{u \\in N_{m1} \\cap N_{m2}} \\frac{1}{k_u}$$ \n",
    "\n",
    "## Resource Allocation\n",
    "\n",
    "$$w_{m1,m2} = \\sum_{u \\in N_{m1} \\cap N_{m2}} \\frac{1}{k_uk_{m1}}$$ \n",
    "\n",
    "\n",
    "## Rating Allocation\n",
    "Projection algorithm inspired by resource allocation, where directed edge weight from movie1 to movie2 is computed by summing over all users who rated both movies, multiplying their rating of movie1, normalized by all movie1's ratings, with their rating of movie2, normalized by the users total ratings.\n",
    "\n",
    "$$w_{m1,m2} = \\sum_{u \\in N_{m1} \\cap N_{m2}} \\frac{w_{m1,u}}{\\sum{w_{m1}}}\\frac{w_{u,m2}}{\\sum{w_{u}}}$$ \n",
    "\n",
    "this is computed for all $m1,m2$ pairs of movies, excluding self-loops, to produce a directed movie graph.\n",
    "\n",
    "An issue with this approach: Ratings below average (e.g. 1) increase weight compared to no rating, which seems intuitively wrong.  \n",
    "We solve this by replacing no rating with the average rating, for both $w_{m1,u}$ and $w_{u,m2}$.\n",
    "\n"
   ]
  },
  {
   "cell_type": "code",
   "execution_count": 25,
   "metadata": {
    "ExecuteTime": {
     "end_time": "2023-12-20T20:14:09.781181600Z",
     "start_time": "2023-12-20T20:14:09.775060900Z"
    }
   },
   "outputs": [],
   "source": [
    "def find_common_neighbors(u, v):\n",
    "    N_u = G.neighbors(u)\n",
    "    N_v = G.neighbors(v)\n",
    "    return set(N_u) & set(N_v)\n",
    "\n",
    "def find_neighbor_difference(u, v):\n",
    "    N_u = G.neighbors(u)\n",
    "    N_v = G.neighbors(v)\n",
    "    return set(N_u).difference(set(N_v))\n",
    "\n",
    "def find_non_neighboring_nodes(u, v):\n",
    "    N_u = G.neighbors(u)\n",
    "    N_v = G.neighbors(v)\n",
    "    return set(user_nodes).difference(set(N_u).union(set(N_v)))\n",
    "\n",
    "# Old approach (incorrectly using degree)\n",
    "def rating_allocation_edge_weight(G, u, v, degree_u):\n",
    "    N_u_v = find_common_neighbors(u,v)\n",
    "    weight_u_v = 0\n",
    "    for n in N_u_v:\n",
    "        w_u_n = G.get_edge_data(u,n)['weight']\n",
    "        w_n_v = G.get_edge_data(n,v)['weight']\n",
    "        weight_u_v += w_u_n / degree_u * w_n_v / G.degree(n)\n",
    "    return weight_u_v\n",
    "\n",
    "# The algorithm works in 3 stages:\n",
    "#   1. Iterate over the common neighbors of the movies, calculate weights.\n",
    "#   2. Iterate over the differences between the neighbor sets of the movies. Calculate the weights.\n",
    "#   3. Now, there is no need to iterate over the users that are not in either movie's neighbor set. As\n",
    "#      it will be explained later, it is a one time operation.\n",
    "def rating_allocation_edge_weight_adjusted(G, u, v):\n",
    "    N_u_v = find_common_neighbors(u,v)\n",
    "    Dif_u_v = find_neighbor_difference(u, v)\n",
    "    Dif_v_u = find_neighbor_difference(v, u)\n",
    "    Non_n_u_v = find_non_neighboring_nodes(u, v)\n",
    "\n",
    "    # The total weight of a node is calculated as the average weight of the node times the number of edges. Since\n",
    "    # the bipartite network is a clique, the number of edges are the number of user nodes.\n",
    "    u_total_weight = len(user_nodes) * G.nodes[u][\"average_weight\"]\n",
    "\n",
    "    number_of_movies = len(movie_nodes)\n",
    "    number_of_users = len(user_nodes)\n",
    "    number_of_movies_inverse = 1 / number_of_movies  # Will be important later.\n",
    "    number_of_users_inverse = 1 / number_of_users\n",
    "\n",
    "    weight_u_v = 0\n",
    "    # Case 1: The intersection of the neighbors. Need the find the weights of both the edges since they are\n",
    "    # different from the default average weight.\n",
    "    for n in N_u_v:\n",
    "        w_u_n = G.get_edge_data(u,n)['weight']\n",
    "        w_n_v = G.get_edge_data(n,v)['weight']\n",
    "        weight_u_v += (w_u_n / u_total_weight * w_n_v / (number_of_movies * G.nodes[n][\"average_weight\"]))\n",
    "\n",
    "    # Case 2a: The difference of the neighboring sets of u and v. Notice the second term in the calculation. This\n",
    "    # is a simplification of (G.nodes[n][\"average_weight\"] / (G.nodes[n][\"average_weight\"] * number_of_movies)).\n",
    "    # There is no real edge between n and v, so we assume the edge weight is the average weight for node v.\n",
    "    for n in Dif_u_v:\n",
    "        w_u_n = G.get_edge_data(u, n)['weight']\n",
    "        weight_u_v += (w_u_n / u_total_weight) * number_of_movies_inverse\n",
    "\n",
    "    # Case 2b: Similar to case 2a.\n",
    "    for n in Dif_v_u:\n",
    "        w_v_n = G.get_edge_data(n, v)['weight']\n",
    "        weight_u_v += number_of_users_inverse * (w_v_n / (number_of_movies * G.nodes[n][\"average_weight\"]))\n",
    "\n",
    "    # Now, we can do the simplification shown before for both terms, since we know the edge weights will be\n",
    "    # equal to their average weights because there is no real node between u -> n and n -> v. We do this operation\n",
    "    # for the number of users that are not shared in both movies' neighboring sets.\n",
    "    weight_u_v += len(Non_n_u_v) * (number_of_users_inverse * number_of_movies_inverse)\n",
    "    return weight_u_v\n",
    "\n",
    "def rating_allocation_projection(G, movie_nodes):\n",
    "    rating_allocation_graph = nx.DiGraph()\n",
    "    for i, u in enumerate(movie_nodes):\n",
    "        for v in movie_nodes:\n",
    "\n",
    "            # Prevent self-loops\n",
    "            if v == u:\n",
    "                continue\n",
    "\n",
    "            #Change this for testing\n",
    "            edge_weight = rating_allocation_edge_weight_adjusted(G, u, v)\n",
    "            rating_allocation_graph.add_edge(u, v, weight=edge_weight)\n",
    "        \n",
    "        # print progress\n",
    "        print(f\"{i/len(movie_nodes):.0%}\")\n",
    "        print(rating_allocation_graph[u][v])\n",
    "    return rating_allocation_graph"
   ]
  },
  {
   "cell_type": "code",
   "execution_count": 26,
   "metadata": {
    "ExecuteTime": {
     "end_time": "2023-12-20T20:14:09.853721100Z",
     "start_time": "2023-12-20T20:14:09.785202Z"
    },
    "collapsed": false
   },
   "outputs": [
    {
     "name": "stdout",
     "output_type": "stream",
     "text": [
      "User amount:  943\n",
      "Movie amount:  1682\n"
     ]
    }
   ],
   "source": [
    "# Possible solution to problem:\n",
    "#   1. Compute the average weight for each node and put in a dictionary. Done\n",
    "#   2. Iterate over the user nodes and check if they have a connection with the movies.\n",
    "#   3. If they do not, add an edge with average weight.\n",
    "#   4. To normalize, we add average rating * number of pretended edges at the end\n",
    "\n",
    "print(\"User amount: \", len(user_nodes))\n",
    "print(\"Movie amount: \", len(movie_nodes))\n",
    "\n",
    "def adjust_nodes(nodes):\n",
    "    for m in nodes:\n",
    "        number_of_neighbors = sum(1 for _ in G.neighbors(m))\n",
    "\n",
    "        total_weight = 0\n",
    "        for v in G.neighbors(m):\n",
    "            total_weight += G.get_edge_data(m, v)[\"weight\"]\n",
    "        average_weight = total_weight / number_of_neighbors\n",
    "\n",
    "        G.nodes[m][\"total_weight\"] = total_weight\n",
    "        G.nodes[m][\"average_weight\"] = average_weight\n",
    "        G.nodes[m][\"number_of_neighbors\"] = number_of_neighbors\n",
    "\n",
    "adjust_nodes(user_nodes)\n",
    "adjust_nodes(movie_nodes)"
   ]
  },
  {
   "cell_type": "markdown",
   "metadata": {},
   "source": [
    "## Rating Allocation with genres"
   ]
  },
  {
   "cell_type": "code",
   "execution_count": 27,
   "metadata": {
    "ExecuteTime": {
     "end_time": "2023-12-20T20:14:09.914878900Z",
     "start_time": "2023-12-20T20:14:09.856720400Z"
    },
    "collapsed": false
   },
   "outputs": [],
   "source": [
    "# Insert the genre information into the movie nodes.\n",
    "genres = dict()\n",
    "\n",
    "# Load genre information in a dict\n",
    "def create_genre_dict(genre_dict):\n",
    "    with open(\"./data/raw/genres.txt\", 'r') as genre_info:\n",
    "        for line in genre_info:\n",
    "            fields = line.split('|')\n",
    "            genre_dict[int(fields[1])] = fields[0]\n",
    "\n",
    "create_genre_dict(genres)\n",
    "\n",
    "# Load genre information of movies into the movie nodes\n",
    "def load_genres(graph, genre_dict):\n",
    "    with open(\"./data/raw/movie-titles.txt\", 'r') as movie_genres:\n",
    "        for line in movie_genres:\n",
    "            fields = line.strip().split('|')\n",
    "            movie_node = int(fields[0])\n",
    "            if not movie_node in graph:\n",
    "                continue\n",
    "            for index in range(0,19):\n",
    "                graph.nodes[movie_node][genre_dict[index]] = int(fields[index+5])\n",
    "\n",
    "            # Also adding genres as numpy array\n",
    "            graph.nodes[movie_node]['genres'] = np.array(fields[5:24], dtype=int)\n",
    "\n",
    "load_genres(G, genres)"
   ]
  },
  {
   "cell_type": "code",
   "execution_count": 28,
   "metadata": {
    "ExecuteTime": {
     "end_time": "2023-12-20T20:14:09.930879600Z",
     "start_time": "2023-12-20T20:14:09.882116Z"
    }
   },
   "outputs": [
    {
     "data": {
      "text/plain": [
       "(0.1304372986874877,\n",
       " 0.5945550202553832,\n",
       " array([0, 0, 0, 1, 1, 1, 0, 0, 0, 0, 0, 0, 0, 0, 0, 0, 0, 0, 0]),\n",
       " array([0, 1, 1, 0, 0, 1, 0, 0, 0, 0, 0, 1, 0, 0, 0, 0, 0, 0, 0]))"
      ]
     },
     "execution_count": 28,
     "metadata": {},
     "output_type": "execute_result"
    }
   ],
   "source": [
    "# Testing genre correlations\n",
    "nodes = 1, 201\n",
    "r, p = pearsonr(G.nodes[nodes[0]]['genres'], G.nodes[nodes[1]]['genres'])\n",
    "r, p, G.nodes[nodes[0]]['genres'], G.nodes[nodes[1]]['genres']"
   ]
  },
  {
   "cell_type": "code",
   "execution_count": 29,
   "metadata": {
    "ExecuteTime": {
     "end_time": "2023-12-20T20:14:09.985989900Z",
     "start_time": "2023-12-20T20:14:09.895892Z"
    }
   },
   "outputs": [],
   "source": [
    "# Adding total and average weight as node attribute\n",
    "def add_weight_attributes(G, nodes):\n",
    "\n",
    "    for node in nodes:\n",
    "        neighbors = set(G.neighbors(node))\n",
    "        number_of_neighbors = len(neighbors)\n",
    "        total_weight = 0\n",
    "\n",
    "        for v in G.neighbors(node):\n",
    "            total_weight += G.get_edge_data(node, v)[\"weight\"]\n",
    "        average_weight = total_weight / number_of_neighbors\n",
    "\n",
    "        # For each non-neighbor, add average weight to total weight\n",
    "        number_of_non_neighbors = len(G.nodes) - len(nodes) - number_of_neighbors\n",
    "        total_weight += number_of_non_neighbors * average_weight\n",
    "\n",
    "        G.nodes[node][\"total_weight\"] = total_weight\n",
    "        G.nodes[node][\"average_weight\"] = average_weight\n",
    "\n",
    "# Needs to be called on users and movies seperately\n",
    "add_weight_attributes(G, user_nodes)\n",
    "add_weight_attributes(G, movie_nodes)"
   ]
  },
  {
   "cell_type": "code",
   "execution_count": 30,
   "metadata": {
    "ExecuteTime": {
     "end_time": "2023-12-20T20:14:10.006512200Z",
     "start_time": "2023-12-20T20:14:09.985989900Z"
    }
   },
   "outputs": [],
   "source": [
    "def chris_rating_allocation_projection(G, movie_nodes):\n",
    "    \"\"\"\n",
    "    This works, but is slower than Efe's approach\n",
    "    \"\"\"\n",
    "    user_nodes = {node for node in G.nodes if node not in movie_nodes}\n",
    "\n",
    "    rating_allocation_graph = nx.DiGraph()\n",
    "\n",
    "    for i, m1 in enumerate(movie_nodes):\n",
    "\n",
    "        m1_neighbors = set(G.neighbors(m1))\n",
    "\n",
    "        for m2 in movie_nodes:\n",
    "            # Prevent self-loops\n",
    "            if m1 == m2:\n",
    "                continue\n",
    "\n",
    "            weight_m1_m2 = 0\n",
    "\n",
    "            for user in user_nodes:\n",
    "            \n",
    "                if user in m1_neighbors:\n",
    "                    w_m1_user = G.get_edge_data(m1,user)['weight']\n",
    "                else:\n",
    "                    w_m1_user = G.nodes[m1]['average_weight']\n",
    "\n",
    "                if user in G[m2]:\n",
    "                    w_user_m2 = G.get_edge_data(user,m2)['weight']\n",
    "                else:\n",
    "                    w_user_m2 = G.nodes[user]['average_weight']\n",
    "\n",
    "                weight_m1_m2 += (w_m1_user / G.nodes[m1]['total_weight']) * (w_user_m2 / G.nodes[user]['total_weight'])\n",
    "            rating_allocation_graph.add_edge(m1, m2, weight=weight_m1_m2)\n",
    "\n",
    "        # print progress\n",
    "        print(f\"{i/len(movie_nodes):.0%}\")\n",
    "        print(m1,m2,rating_allocation_graph[m1][m2]['weight'])\n",
    "\n",
    "    return rating_allocation_graph\n",
    "\n",
    "#chris_rating_allocation_projection(G, movie_nodes)"
   ]
  },
  {
   "cell_type": "code",
   "execution_count": 31,
   "metadata": {
    "ExecuteTime": {
     "end_time": "2023-12-20T20:14:10.007508400Z",
     "start_time": "2023-12-20T20:14:09.991992900Z"
    }
   },
   "outputs": [],
   "source": [
    "def find_common_neighbors(u, v):\n",
    "    N_u = G.neighbors(u)\n",
    "    N_v = G.neighbors(v)\n",
    "    return set(N_u) & set(N_v)\n",
    "\n",
    "def find_neighbor_difference(u, v):\n",
    "    N_u = G.neighbors(u)\n",
    "    N_v = G.neighbors(v)\n",
    "    return set(N_u).difference(set(N_v))\n",
    "\n",
    "def find_non_neighboring_nodes(u, v):\n",
    "    N_u = G.neighbors(u)\n",
    "    N_v = G.neighbors(v)\n",
    "    return set(user_nodes).difference(set(N_u).union(set(N_v)))\n",
    "\n",
    "# Old approach (incorrectly using degree)\n",
    "def rating_allocation_edge_weight(G, u, v, degree_u):\n",
    "    N_u_v = find_common_neighbors(u,v)\n",
    "    weight_u_v = 0\n",
    "    for n in N_u_v:\n",
    "        w_u_n = G.get_edge_data(u,n)['weight']\n",
    "        w_n_v = G.get_edge_data(n,v)['weight']\n",
    "        weight_u_v += w_u_n / degree_u * w_n_v / G.degree(n)\n",
    "    return weight_u_v\n",
    "\n",
    "def rating_allocation_edge_weight_adjusted(G, m1, m2):\n",
    "    m1_total_weight = G.nodes[m1][\"total_weight\"]\n",
    "    weight_m1_m2 = 0\n",
    "    # Case 1: The intersection of the neighbors. \n",
    "    # Need the find the weights of both the edges since they are different from the default average weight.\n",
    "    for user in find_common_neighbors(m1,m2):\n",
    "        w_m1_user = G.get_edge_data(m1,user)['weight']\n",
    "        w_user_m2 = G.get_edge_data(user,m2)['weight']\n",
    "        weight_m1_m2 += w_m1_user / m1_total_weight * w_user_m2 / G.nodes[user][\"total_weight\"]\n",
    "\n",
    "    # Case 2a: The difference of the neighboring sets of u and v. \n",
    "    # There is no real edge between user and m2, so we assume the edge weight is the average rating devided by the total ratings of user.\n",
    "    for user in find_neighbor_difference(m1, m2):\n",
    "        w_m1_user = G.get_edge_data(m1, user)['weight']\n",
    "        weight_m1_m2 += (w_m1_user / m1_total_weight) * (G.nodes[user][\"average_weight\"] / G.nodes[user][\"total_weight\"])\n",
    "\n",
    "    # Case 2b: Similar to case 2a, but instead use average for weight from m1 to user.\n",
    "    for user in find_neighbor_difference(m2, m1):\n",
    "        w_user_m2 = G.get_edge_data(user, m2)['weight']\n",
    "        weight_m1_m2 += (G.nodes[m1][\"average_weight\"] / m1_total_weight) * (w_user_m2 / G.nodes[user][\"total_weight\"])\n",
    "    \n",
    "    # Using average weights between m1 and user, and user and m2.\n",
    "    for user in find_non_neighboring_nodes(m1, m2):\n",
    "        weight_m1_m2 += (G.nodes[m1][\"average_weight\"] / m1_total_weight) * (G.nodes[user][\"average_weight\"] / G.nodes[user][\"total_weight\"])\n",
    "\n",
    "    return weight_m1_m2\n",
    "\n",
    "def rating_allocation_projection(G, movie_nodes):\n",
    "    \"\"\"\n",
    "    New approach.\n",
    "    Uses average rating of m1 for m1->user if user didn't rate m1, \n",
    "    and avg. rating of user for user->m2 if user didn't rate m2.\n",
    "    \"\"\"\n",
    "    rating_allocation_graph = nx.DiGraph()\n",
    "    for i, m1 in enumerate(movie_nodes):\n",
    "        for m2 in movie_nodes:\n",
    "            # Prevent self-loops\n",
    "            if m2 == m1:\n",
    "                continue\n",
    "            edge_weight = rating_allocation_edge_weight_adjusted(G, m1, m2)\n",
    "            rating_allocation_graph.add_edge(m1, m2, weight=edge_weight)\n",
    "        # print progress\n",
    "        print(f\"{i/len(movie_nodes):.0%}\")\n",
    "        # print(m1,m2,rating_allocation_graph[m1][m2]['weight'])\n",
    "    return rating_allocation_graph\n",
    "\n",
    "def rating_genre_allocation_projection(G, movie_nodes, genre_weight=0):\n",
    "    \"\"\"\n",
    "    Adds optional genre_weight parameter [0,1], which is weight of genre correlation compared to rating_allocation\n",
    "    \"\"\"\n",
    "    num_movies = len(movie_nodes)\n",
    "    rating_allocation_graph = nx.DiGraph()\n",
    "    for i, m1 in enumerate(movie_nodes):\n",
    "        for m2 in movie_nodes:\n",
    "            # Prevent self-loops\n",
    "            if m2 == m1:\n",
    "                continue\n",
    "            edge_weight = rating_allocation_edge_weight_adjusted(G, m1, m2)\n",
    "\n",
    "            if genre_weight > 0:\n",
    "\n",
    "                # Get pearson correlation between movie genres\n",
    "                r, _ = pearsonr(G.nodes[m1]['genres'], G.nodes[m2]['genres'])  \n",
    "\n",
    "                # Ignore negative correlations\n",
    "                r = max(0, r)  \n",
    "\n",
    "                # New edge weight is sum with correlation, weighed by genre_weight\n",
    "                edge_weight = genre_weight * r + (1-genre_weight) * edge_weight\n",
    "\n",
    "            rating_allocation_graph.add_edge(m1, m2, weight=edge_weight)\n",
    "        # print progress\n",
    "        print(f\"{i/num_movies:.0%}\")\n",
    "        # print(m1,m2,rating_allocation_graph[m1][m2]['weight'])\n",
    "    return rating_allocation_graph"
   ]
  },
  {
   "cell_type": "code",
   "execution_count": 4,
   "metadata": {
    "ExecuteTime": {
     "end_time": "2023-12-20T20:14:11.846570700Z",
     "start_time": "2023-12-20T20:14:10.001531200Z"
    }
   },
   "outputs": [
    {
     "name": "stdout",
     "output_type": "stream",
     "text": [
      "Projection loaded.\n"
     ]
    }
   ],
   "source": [
    "# Saving/loading rating allocation projection with genres\n",
    "rating_genre_allocation_path = \"rating_genre_allocation_movies.p\"\n",
    "\n",
    "if os.path.exists(projection_path+rating_genre_allocation_path):\n",
    "    rating_genre_allocation_movies = load_projection(rating_genre_allocation_path)\n",
    "else:\n",
    "    # Takes a VERY long time\n",
    "    rating_genre_allocation_movies = rating_genre_allocation_projection(G, movie_nodes, genre_weight=0.5)\n",
    "    save_projection(rating_genre_allocation_movies, rating_genre_allocation_path)"
   ]
  },
  {
   "cell_type": "code",
   "execution_count": 33,
   "metadata": {
    "ExecuteTime": {
     "end_time": "2023-12-20T20:14:13.436870Z",
     "start_time": "2023-12-20T20:14:11.833582Z"
    }
   },
   "outputs": [
    {
     "name": "stdout",
     "output_type": "stream",
     "text": [
      "Projection loaded.\n"
     ]
    }
   ],
   "source": [
    "# Saving/loading rating allocation projection on movies\n",
    "rating_allocation_movies_path = \"rating_allocation_movies.p\"\n",
    "\n",
    "if os.path.exists(projection_path+rating_allocation_movies_path):\n",
    "    rating_allocation_movies = load_projection(rating_allocation_movies_path)\n",
    "else:\n",
    "    # Takes VERY long\n",
    "    rating_allocation_movies = rating_genre_allocation_projection(G, movie_nodes)\n",
    "    save_projection(rating_allocation_movies, rating_allocation_movies_path)\n",
    "\n"
   ]
  },
  {
   "cell_type": "code",
   "execution_count": null,
   "metadata": {
    "ExecuteTime": {
     "end_time": "2023-12-20T20:14:13.437868700Z",
     "start_time": "2023-12-20T20:14:13.429283200Z"
    }
   },
   "outputs": [],
   "source": []
  },
  {
   "cell_type": "markdown",
   "metadata": {},
   "source": [
    "## Saving edge lists for visualization with Gephi"
   ]
  },
  {
   "cell_type": "code",
   "execution_count": 34,
   "metadata": {
    "ExecuteTime": {
     "end_time": "2023-12-20T20:14:13.437868700Z",
     "start_time": "2023-12-20T20:14:13.432798400Z"
    }
   },
   "outputs": [],
   "source": [
    "# TODO: Getting 50 highest degree movies\n",
    "\n",
    "# TODO: Pass these to save_edgelist\n",
    "# save_edgelist(50, rating_allocation_movies, \"rating_allocation_movies_edges\", title_dict, overwrite=True)\n",
    "# save_edgelist(50, simple_weights_movies, \"simple_weights_movies_edges\", title_dict)"
   ]
  },
  {
   "cell_type": "markdown",
   "metadata": {},
   "source": [
    "## Recommendation"
   ]
  },
  {
   "cell_type": "code",
   "execution_count": 5,
   "metadata": {
    "ExecuteTime": {
     "end_time": "2023-12-20T20:51:54.965145300Z",
     "start_time": "2023-12-20T20:51:54.205890100Z"
    }
   },
   "outputs": [],
   "source": [
    "def get_edges(liked_movie_list,d_graph):\n",
    "    liked_movie_node_list = [node_dict[liked_movie_title] for liked_movie_title in liked_movie_list]\n",
    "    edges = dict((liked_movie_node, list(d_graph.edges(liked_movie_node, data=True))) for liked_movie_node in liked_movie_node_list)\n",
    "    return edges\n",
    "\n",
    "def get_average_weight_per_movie(edges):\n",
    "    node_weights = dict()\n",
    "    for node, edges_list in edges.items():\n",
    "        for edge in edges_list:\n",
    "            if edge[1] in edges.keys():\n",
    "                continue\n",
    "            if edge[1] in node_weights:\n",
    "                node_weights[edge[1]].append(edge[2]['weight'])\n",
    "            else:\n",
    "                node_weights[edge[1]] = [edge[2]['weight']]\n",
    "        average_weights = [(node,mean(weights)) for node, weights in node_weights.items()]\n",
    "    return average_weights\n",
    "\n",
    "def sort_average_weight(average_weight_edges):\n",
    "    return sorted(average_weight_edges, reverse=True, key=lambda x: x[1])\n",
    "\n",
    "def k_recommend_from_list(k, rating_allocation_movies, liked_movie_list):\n",
    "    edges = get_edges(liked_movie_list, rating_allocation_movies)\n",
    "    sorted_average_weights = sort_average_weight(get_average_weight_per_movie(edges))\n",
    "    n_neighbors = [(title_dict[neighbor],weight) for neighbor, weight in sorted_average_weights][:k]\n",
    "    return n_neighbors"
   ]
  },
  {
   "cell_type": "code",
   "execution_count": 11,
   "metadata": {},
   "outputs": [
    {
     "name": "stdout",
     "output_type": "stream",
     "text": [
      "Hellraiser: Bloodline (1996)\n",
      "Deep Rising (1998)\n",
      "Alien (1979)\n",
      "Alien 3 (1992)\n",
      "Jaws (1975)\n",
      "Night of the Living Dead (1968)\n",
      "Blood Beach (1981)\n",
      "No Escape (1994)\n",
      "Robert A. Heinlein's The Puppet Masters (1994)\n",
      "Timecop (1994)\n",
      "Highlander III: The Sorcerer (1994)\n",
      "Jaws 3-D (1983)\n"
     ]
    }
   ],
   "source": [
    "liked_movie_list = [\"Alien: Resurrection (1997)\"]\n",
    "recom_list = k_recommend_from_list(12,rating_genre_allocation_movies, liked_movie_list)\n",
    "\n",
    "for i in recom_list:\n",
    "    print(i[0])\n",
    "\n",
    "#print(k_recommend_from_list(20,rating_genre_allocation_movies, liked_movie_list))"
   ]
  },
  {
   "cell_type": "code",
   "execution_count": 18,
   "metadata": {
    "ExecuteTime": {
     "end_time": "2023-12-20T20:14:13.694240300Z",
     "start_time": "2023-12-20T20:14:13.663290300Z"
    }
   },
   "outputs": [],
   "source": [
    "#k = 10\n",
    "#n_neighbors = [(title_dict[neighbor],weight) for neighbor, weight in sorted_average_weights][:k]\n",
    "#print(n_neighbors)"
   ]
  },
  {
   "cell_type": "code",
   "execution_count": 19,
   "metadata": {
    "ExecuteTime": {
     "end_time": "2023-12-20T20:14:13.704239800Z",
     "start_time": "2023-12-20T20:14:13.664242600Z"
    }
   },
   "outputs": [],
   "source": [
    "# For multiple likes movies, find highest average weight movie"
   ]
  },
  {
   "cell_type": "code",
   "execution_count": 20,
   "metadata": {
    "ExecuteTime": {
     "end_time": "2023-12-20T20:24:55.203510100Z",
     "start_time": "2023-12-20T20:24:53.905493400Z"
    },
    "collapsed": false
   },
   "outputs": [
    {
     "name": "stdout",
     "output_type": "stream",
     "text": [
      "Projection loaded.\n",
      "Projection loaded.\n",
      "Projection loaded.\n"
     ]
    },
    {
     "data": {
      "text/html": [
       "<div>\n",
       "<style scoped>\n",
       "    .dataframe tbody tr th:only-of-type {\n",
       "        vertical-align: middle;\n",
       "    }\n",
       "\n",
       "    .dataframe tbody tr th {\n",
       "        vertical-align: top;\n",
       "    }\n",
       "\n",
       "    .dataframe thead th {\n",
       "        text-align: right;\n",
       "    }\n",
       "</style>\n",
       "<table border=\"1\" class=\"dataframe\">\n",
       "  <thead>\n",
       "    <tr style=\"text-align: right;\">\n",
       "      <th></th>\n",
       "      <th>unknown</th>\n",
       "      <th>Action</th>\n",
       "      <th>Adventure</th>\n",
       "      <th>Animation</th>\n",
       "      <th>Children's</th>\n",
       "      <th>Comedy</th>\n",
       "      <th>Crime</th>\n",
       "      <th>Documentary</th>\n",
       "      <th>Drama</th>\n",
       "      <th>Fantasy</th>\n",
       "      <th>Film-Noir</th>\n",
       "      <th>Horror</th>\n",
       "      <th>Musical</th>\n",
       "      <th>Mystery</th>\n",
       "      <th>Romance</th>\n",
       "      <th>Sci-Fi</th>\n",
       "      <th>Thriller</th>\n",
       "      <th>War</th>\n",
       "      <th>Western</th>\n",
       "    </tr>\n",
       "  </thead>\n",
       "  <tbody>\n",
       "    <tr>\n",
       "      <th>0</th>\n",
       "      <td>-0.000599</td>\n",
       "      <td>0.060447</td>\n",
       "      <td>0.027400</td>\n",
       "      <td>0.094521</td>\n",
       "      <td>0.126525</td>\n",
       "      <td>0.085036</td>\n",
       "      <td>0.009017</td>\n",
       "      <td>-0.008309</td>\n",
       "      <td>0.120034</td>\n",
       "      <td>0.004761</td>\n",
       "      <td>0.004513</td>\n",
       "      <td>0.235690</td>\n",
       "      <td>2.710057e-02</td>\n",
       "      <td>0.043969</td>\n",
       "      <td>0.029273</td>\n",
       "      <td>-0.029006</td>\n",
       "      <td>0.073839</td>\n",
       "      <td>-0.057523</td>\n",
       "      <td>0.001285</td>\n",
       "    </tr>\n",
       "    <tr>\n",
       "      <th>1</th>\n",
       "      <td>0.000000</td>\n",
       "      <td>-0.000839</td>\n",
       "      <td>-0.000732</td>\n",
       "      <td>0.000000</td>\n",
       "      <td>0.000000</td>\n",
       "      <td>0.000000</td>\n",
       "      <td>0.000780</td>\n",
       "      <td>0.000000</td>\n",
       "      <td>-0.000859</td>\n",
       "      <td>0.000000</td>\n",
       "      <td>0.006448</td>\n",
       "      <td>0.000000</td>\n",
       "      <td>3.334634e-15</td>\n",
       "      <td>0.001699</td>\n",
       "      <td>-0.000931</td>\n",
       "      <td>-0.001096</td>\n",
       "      <td>-0.000116</td>\n",
       "      <td>-0.000946</td>\n",
       "      <td>0.000000</td>\n",
       "    </tr>\n",
       "    <tr>\n",
       "      <th>2</th>\n",
       "      <td>0.181641</td>\n",
       "      <td>0.821622</td>\n",
       "      <td>0.857528</td>\n",
       "      <td>0.875401</td>\n",
       "      <td>0.917862</td>\n",
       "      <td>0.937347</td>\n",
       "      <td>0.769137</td>\n",
       "      <td>0.928504</td>\n",
       "      <td>0.939574</td>\n",
       "      <td>0.565196</td>\n",
       "      <td>0.650746</td>\n",
       "      <td>0.906683</td>\n",
       "      <td>8.727162e-01</td>\n",
       "      <td>0.727439</td>\n",
       "      <td>0.857754</td>\n",
       "      <td>0.759993</td>\n",
       "      <td>0.900688</td>\n",
       "      <td>0.732800</td>\n",
       "      <td>0.777351</td>\n",
       "    </tr>\n",
       "  </tbody>\n",
       "</table>\n",
       "</div>"
      ],
      "text/plain": [
       "    unknown    Action  Adventure  Animation  Children's    Comedy     Crime  \\\n",
       "0 -0.000599  0.060447   0.027400   0.094521    0.126525  0.085036  0.009017   \n",
       "1  0.000000 -0.000839  -0.000732   0.000000    0.000000  0.000000  0.000780   \n",
       "2  0.181641  0.821622   0.857528   0.875401    0.917862  0.937347  0.769137   \n",
       "\n",
       "   Documentary     Drama   Fantasy  Film-Noir    Horror       Musical  \\\n",
       "0    -0.008309  0.120034  0.004761   0.004513  0.235690  2.710057e-02   \n",
       "1     0.000000 -0.000859  0.000000   0.006448  0.000000  3.334634e-15   \n",
       "2     0.928504  0.939574  0.565196   0.650746  0.906683  8.727162e-01   \n",
       "\n",
       "    Mystery   Romance    Sci-Fi  Thriller       War   Western  \n",
       "0  0.043969  0.029273 -0.029006  0.073839 -0.057523  0.001285  \n",
       "1  0.001699 -0.000931 -0.001096 -0.000116 -0.000946  0.000000  \n",
       "2  0.727439  0.857754  0.759993  0.900688  0.732800  0.777351  "
      ]
     },
     "execution_count": 20,
     "metadata": {},
     "output_type": "execute_result"
    }
   ],
   "source": [
    "top10_simple_weights_movies = load_projection(\"top10_simple_weights_movies.p\")\n",
    "top10_rating_allocation_movies = load_projection(\"top10_rating_allocation_movies.p\")\n",
    "top10_rating_genre_allocation_movies = load_projection(\"top10_rating_genre_allocation_movies.p\")\n",
    "\n",
    "load_genres(top10_simple_weights_movies, genres)\n",
    "load_genres(top10_rating_allocation_movies, genres)\n",
    "load_genres(top10_rating_genre_allocation_movies, genres)\n",
    "\n",
    "assortativity_coef_dict = dict()\n",
    "for genre in genres.values():\n",
    "    assortativity_coef_dict[genre] = [\n",
    "       nx.assortativity.attribute_assortativity_coefficient(\n",
    "           top10_simple_weights_movies, attribute=genre\n",
    "       ),\n",
    "        nx.assortativity.attribute_assortativity_coefficient(\n",
    "            top10_rating_allocation_movies, attribute=genre\n",
    "        ),\n",
    "        nx.assortativity.attribute_assortativity_coefficient(\n",
    "            top10_rating_genre_allocation_movies, attribute=genre\n",
    "        )\n",
    "    ]\n",
    "\n",
    "df = pd.DataFrame(assortativity_coef_dict)\n",
    "df\n"
   ]
  },
  {
   "cell_type": "code",
   "execution_count": 21,
   "metadata": {
    "ExecuteTime": {
     "end_time": "2023-12-20T20:30:39.672390600Z",
     "start_time": "2023-12-20T20:30:39.649701300Z"
    },
    "collapsed": false
   },
   "outputs": [
    {
     "name": "stdout",
     "output_type": "stream",
     "text": [
      "(0.04463020482405016, 0.06570016503910962)\n",
      "(0.0001794218213559543, 0.0016127379221472225)\n",
      "(0.8221300804049034, 0.1026851032095419)\n"
     ]
    }
   ],
   "source": [
    "simple_weights_average, simple_weights_std = np.mean(df.iloc[0]), np.std(df.iloc[0])\n",
    "print((simple_weights_average, simple_weights_std))\n",
    "\n",
    "rating_allocation_average, rating_allocation_std = np.mean(df.iloc[1]), np.std(df.iloc[1])\n",
    "print((rating_allocation_average, rating_allocation_std))\n",
    "\n",
    "genre_allocation_average, genre_allocation_std = np.mean(df.iloc[2][1:]), np.std(df.iloc[2][1:])\n",
    "print((genre_allocation_average, genre_allocation_std))"
   ]
  },
  {
   "cell_type": "code",
   "execution_count": null,
   "metadata": {
    "collapsed": false
   },
   "outputs": [],
   "source": []
  }
 ],
 "metadata": {
  "kernelspec": {
   "display_name": "Python 3 (ipykernel)",
   "language": "python",
   "name": "python3"
  },
  "language_info": {
   "codemirror_mode": {
    "name": "ipython",
    "version": 3
   },
   "file_extension": ".py",
   "mimetype": "text/x-python",
   "name": "python",
   "nbconvert_exporter": "python",
   "pygments_lexer": "ipython3",
   "version": "3.10.13"
  }
 },
 "nbformat": 4,
 "nbformat_minor": 4
}
