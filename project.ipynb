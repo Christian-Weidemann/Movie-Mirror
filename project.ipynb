{
 "cells": [
  {
   "cell_type": "markdown",
   "metadata": {},
   "source": [
    "### Importing libraries"
   ]
  },
  {
   "cell_type": "code",
   "execution_count": 6,
   "metadata": {},
   "outputs": [],
   "source": [
    "import os\n",
    "import pandas as pd\n",
    "import numpy as np\n",
    "import networkx as nx\n",
    "import pickle\n",
    "import matplotlib.pyplot as plt\n",
    "from networkx.algorithms import bipartite\n",
    "from collections import Counter\n",
    "from networkx.linalg.graphmatrix import adjacency_matrix"
   ]
  },
  {
   "cell_type": "markdown",
   "metadata": {},
   "source": [
    "### Data pathes\n",
    "If assertion fails, download the movielens-100k ratings data from [konect](http://konect.cc/networks/movielens-100k_rating/) and put the files in data/raw."
   ]
  },
  {
   "cell_type": "code",
   "execution_count": 7,
   "metadata": {},
   "outputs": [],
   "source": [
    "# Path variables\n",
    "raw_data_path =\"data/raw/\"\n",
    "figure_path = \"data/figures/\"\n",
    "bipartite_path = \"data/bipartite/\"\n",
    "\n",
    "# Verifying data path\n",
    "assert os.path.exists(raw_data_path)\n",
    "\n",
    "def save_figure(path, overwrite=False):\n",
    "    path = figure_path + path \n",
    "    if overwrite:\n",
    "        plt.savefig(path)\n",
    "    else:\n",
    "        if not os.path.exists(path):\n",
    "            plt.savefig(path)"
   ]
  },
  {
   "cell_type": "markdown",
   "metadata": {},
   "source": [
    "### Create/load the bipartite network"
   ]
  },
  {
   "cell_type": "code",
   "execution_count": 36,
   "metadata": {
    "ExecuteTime": {
     "end_time": "2023-11-22T08:39:17.287355400Z",
     "start_time": "2023-11-22T08:39:17.195285700Z"
    }
   },
   "outputs": [
    {
     "name": "stdout",
     "output_type": "stream",
     "text": [
      "Graph loaded.\n"
     ]
    }
   ],
   "source": [
    "# Loading movie titles and nodes\n",
    "with open(raw_data_path+\"movie-titles.txt\", 'r') as f:\n",
    "        title_dict =  dict()\n",
    "        node_dict = dict()\n",
    "        for line in f.readlines():\n",
    "            movieid, title = line.strip().split('|')[:2]\n",
    "            movieid = int(movieid)\n",
    "            title_dict[movieid] = title\n",
    "            node_dict[title] = movieid\n",
    "\n",
    "if os.path.exists(bipartite_path+\"full_bipartite.p\"):\n",
    "    with open(bipartite_path+\"full_bipartite.p\", 'rb') as f:\n",
    "        G = pickle.load(f)\n",
    "    print(\"Graph loaded.\")\n",
    "else:\n",
    "    G = nx.Graph()\n",
    "\n",
    "    # Loading edges\n",
    "    with open(raw_data_path+\"rel.rating.csv\", 'r') as f:\n",
    "\n",
    "        for line in f.readlines():\n",
    "            userid, movieid, rating, timestamp = tuple(map(int, line.strip().split(' ')))\n",
    "            userid += 10000\n",
    "            G.add_node(userid)\n",
    "            G.add_node(movieid, title=title_dict[movieid])\n",
    "            G.add_edge(userid, movieid, weight=rating)  # Discarding the timestamp attribute of edges\n",
    "\n",
    "    # Saving graph as pickle file\n",
    "    with open(bipartite_path+\"full_bipartite.p\", 'wb') as f:\n",
    "        pickle.dump(G, f)\n",
    "    print(\"Graph created and saved.\")"
   ]
  },
  {
   "cell_type": "markdown",
   "metadata": {},
   "source": [
    "These are summary statistics of the graph from running scripts/metrics.py (removed irrellevant statistics):\n",
    "\n",
    "#### Basic Statistics\n",
    "Number of Nodes: 2625, Number of Edges: 100000, Global Density: 0.029, Global Diameter: 5 \n",
    "\n",
    "####  Degree Statistics\n",
    "Average Degree: 76.19, Five-Number-Summary Degrees: [  1.,  15.,  42., 106., 737.]\n",
    "\n",
    "#### Connected Components Statistics\n",
    "Number of CC: 1, Average CC Size: 2625.0, Average CC Density: 0.029036004645760744}, "
   ]
  },
  {
   "cell_type": "markdown",
   "metadata": {},
   "source": [
    "### Weight (Rating) Distribution"
   ]
  },
  {
   "cell_type": "code",
   "execution_count": 37,
   "metadata": {
    "ExecuteTime": {
     "end_time": "2023-11-22T08:39:21.299535200Z",
     "start_time": "2023-11-22T08:39:20.989929900Z"
    }
   },
   "outputs": [
    {
     "data": {
      "text/plain": "<Figure size 640x480 with 1 Axes>",
      "image/png": "[encoded data removed]"
     },
     "metadata": {},
     "output_type": "display_data"
    }
   ],
   "source": [
    "weights = list(edge[2]['weight'] for edge in G.edges(data=True))\n",
    "unique, count = np.unique(weights, return_counts=True)\n",
    "plt.bar(unique, count)\n",
    "plt.title(\"Rating Value Distribution\", size=14)\n",
    "plt.xlabel(\"Rating\")\n",
    "plt.ylabel(\"Frequency\");\n",
    "np.mean(weights), np.std(weights)\n",
    "\n",
    "save_figure(\"bipartite_rating_value_distribution.png\")"
   ]
  },
  {
   "cell_type": "markdown",
   "metadata": {},
   "source": [
    "### Visualizing Degree Distributions"
   ]
  },
  {
   "cell_type": "code",
   "execution_count": 38,
   "metadata": {
    "ExecuteTime": {
     "end_time": "2023-11-22T08:39:24.925803800Z",
     "start_time": "2023-11-22T08:39:24.889105700Z"
    }
   },
   "outputs": [],
   "source": [
    "def plot_ccdf(degree_dictionary, cumulative=True):  # takes dict(G.degree)\n",
    "   dd = Counter(degree_dictionary.values())\n",
    "   dd = pd.DataFrame(list(dd.items()), columns = (\"degree\", \"count\")).sort_values(by = \"degree\")\n",
    "   ccdf = dd.sort_values(by = \"degree\", ascending = False)\n",
    "   if cumulative:\n",
    "      ccdf[\"cumsum\"] = ccdf[\"count\"].cumsum()\n",
    "      ccdf[\"ccdf\"] = ccdf[\"cumsum\"] / ccdf[\"count\"].sum()\n",
    "      ccdf = ccdf[[\"degree\", \"ccdf\"]].sort_values(by = \"degree\")\n",
    "   return ccdf"
   ]
  },
  {
   "cell_type": "code",
   "execution_count": 39,
   "metadata": {
    "ExecuteTime": {
     "end_time": "2023-11-22T08:39:27.174514500Z",
     "start_time": "2023-11-22T08:39:27.132454400Z"
    }
   },
   "outputs": [],
   "source": [
    "movie_degrees = {k:v for k,v in dict(G.degree()).items() if k < 10000}\n",
    "user_degrees = {k:v for k,v in dict(G.degree()).items() if k >= 10000}"
   ]
  },
  {
   "cell_type": "code",
   "execution_count": 40,
   "metadata": {
    "ExecuteTime": {
     "end_time": "2023-11-22T08:39:30.921761200Z",
     "start_time": "2023-11-22T08:39:29.476770200Z"
    }
   },
   "outputs": [
    {
     "data": {
      "text/plain": "<Figure size 1000x400 with 2 Axes>",
      "image/png": "[encoded data removed]"
     },
     "metadata": {},
     "output_type": "display_data"
    }
   ],
   "source": [
    "movie_dd = plot_ccdf(movie_degrees, cumulative=False)\n",
    "user_dd = plot_ccdf(user_degrees, cumulative=False)\n",
    "fig, ax = plt.subplots(1,2, figsize=(10,4))\n",
    "fig.suptitle(\"Degree Distributions\", size=14)\n",
    "# plt.setp(ax, xlim=(0,1000), ylim=(0,1))\n",
    "# plt.setp(ax, xlim=ax[0].get_xlim(), ylim=ax[0].get_ylim())\n",
    "opacity = 1\n",
    "movie_dd.plot(kind='scatter', x='degree', y='count', loglog=True, label='Movies', ax=ax[0], alpha=opacity, xlabel='Degree', ylabel='Count')\n",
    "user_dd.plot(kind='scatter', x='degree', y='count', loglog=True, label='Users', ax=ax[1], alpha=opacity, color='C1', ylabel='', xlabel='')                   \n",
    "\n",
    "# Keeping axis limits consistent and centering xlabel\n",
    "ax[1].set_xlim(ax[0].get_xlim())\n",
    "ax[1].set_ylim(ax[0].get_ylim())\n",
    "ax[0].xaxis.set_label_coords(1.1, -0.11)\n",
    "\n",
    "save_figure(\"bipartite_dd_movies_and_users.png\")"
   ]
  },
  {
   "cell_type": "code",
   "execution_count": 41,
   "metadata": {
    "ExecuteTime": {
     "end_time": "2023-11-22T08:39:37.760166600Z",
     "start_time": "2023-11-22T08:39:35.726122200Z"
    }
   },
   "outputs": [
    {
     "data": {
      "text/plain": "<Figure size 640x480 with 1 Axes>",
      "image/png": "[encoded data removed]"
     },
     "metadata": {},
     "output_type": "display_data"
    }
   ],
   "source": [
    "ax = plt.gca()\n",
    "\n",
    "movie_ccdf = plot_ccdf(movie_degrees)\n",
    "user_ccdf = plot_ccdf(user_degrees)\n",
    "total_ccdf = plot_ccdf(dict(G.degree()))\n",
    "            \n",
    "movie_ccdf.plot(kind='line', x='degree', y='ccdf', loglog=True, label='Movies', ax=ax, linewidth=2)\n",
    "user_ccdf.plot(kind='line', x='degree', y='ccdf', loglog=True, label='Users', ax=ax, linewidth=2)\n",
    "total_ccdf.plot(kind='line', x='degree', y='ccdf', loglog=True, label='Total', ax=ax, linewidth=2)\n",
    "\n",
    "ax.set_title(\"Cumulative degree distributions\", size=14)                       \n",
    "plt.ylabel(\"Cumulative Probability\")\n",
    "plt.xlabel(\"Degree\")\n",
    "                       \n",
    "save_figure(\"bipartite_ccdf_movies_and_users.png\")"
   ]
  },
  {
   "cell_type": "code",
   "execution_count": 42,
   "metadata": {
    "scrolled": true,
    "ExecuteTime": {
     "end_time": "2023-11-22T08:39:42.419164400Z",
     "start_time": "2023-11-22T08:39:42.408048300Z"
    }
   },
   "outputs": [
    {
     "data": {
      "text/plain": "(20, 1, 0.4417360285374554)"
     },
     "execution_count": 42,
     "metadata": {},
     "output_type": "execute_result"
    }
   ],
   "source": [
    "min(user_degrees.values()), min(movie_degrees.values()), float(1-movie_ccdf[movie_ccdf['degree'] == 20]['ccdf'].iloc[0])"
   ]
  },
  {
   "cell_type": "markdown",
   "metadata": {},
   "source": [
    "The distributions are not power law; they are shifted and there is exponential cutoff. 20 is the obvious minumum of movies rated by any user, since users with fewer than 20 ratings were discarded when making the data set. Some movies on the other hand have very few ratings, the minimum being 1. 44% of movies are rated by 20 or less people."
   ]
  },
  {
   "cell_type": "markdown",
   "metadata": {},
   "source": [
    "Add for next time:\n",
    "add degree distribution plots\n",
    "summary statistics \n",
    "check for power low"
   ]
  },
  {
   "cell_type": "markdown",
   "metadata": {},
   "source": [
    "### Generate weighted projection and get the degree centrality of both users and movies"
   ]
  },
  {
   "cell_type": "code",
   "execution_count": 43,
   "metadata": {
    "ExecuteTime": {
     "end_time": "2023-11-22T08:40:16.685534200Z",
     "start_time": "2023-11-22T08:39:46.590094400Z"
    }
   },
   "outputs": [
    {
     "name": "stdout",
     "output_type": "stream",
     "text": [
      "Graph with 943 nodes and 429110 edges\n",
      "Graph with 1682 nodes and 983206 edges\n"
     ]
    }
   ],
   "source": [
    "# Split the graph into 2 sets: user and movie nodes\n",
    "user_nodes, movie_nodes = nx.algorithms.bipartite.basic.sets(G)\n",
    "\n",
    "# Generate the weighted projections\n",
    "weighted_projection_users = bipartite.weighted_projected_graph(G, user_nodes)\n",
    "weighted_projection_movie = bipartite.weighted_projected_graph(G, movie_nodes)\n",
    "\n",
    "print(weighted_projection_users)\n",
    "print(weighted_projection_movie)"
   ]
  },
  {
   "cell_type": "markdown",
   "metadata": {},
   "source": [
    " Calculate the degree centrality of each user (why are they so high?!) (How many movies each user has rated)"
   ]
  },
  {
   "cell_type": "code",
   "execution_count": 44,
   "metadata": {
    "ExecuteTime": {
     "end_time": "2023-11-22T08:40:24.488546100Z",
     "start_time": "2023-11-22T08:40:24.464787300Z"
    }
   },
   "outputs": [
    {
     "name": "stdout",
     "output_type": "stream",
     "text": [
      "Degree centrality for users:\n"
     ]
    }
   ],
   "source": [
    "# How many movies each user has rated\n",
    "# Compute degree centrality for the users projection\n",
    "users_degree_centrality = nx.degree_centrality(weighted_projection_users)\n",
    "\n",
    "# Print the degree centrality for each node in the users projection\n",
    "print(\"Degree centrality for users:\")\n",
    "# for node, centrality in users_degree_centrality.items():\n",
    "    # print(f\"Node {node}: {centrality}\")\n"
   ]
  },
  {
   "cell_type": "markdown",
   "metadata": {},
   "source": [
    "Calculate the degree centrality of each movie (why are they so high?!) (How many ratings per movie)"
   ]
  },
  {
   "cell_type": "code",
   "execution_count": 45,
   "metadata": {
    "ExecuteTime": {
     "end_time": "2023-11-22T08:40:34.168904500Z",
     "start_time": "2023-11-22T08:40:34.138582100Z"
    }
   },
   "outputs": [
    {
     "name": "stdout",
     "output_type": "stream",
     "text": [
      "Degree centrality for movies:\n"
     ]
    }
   ],
   "source": [
    "# Compute degree centrality for the movie projection\n",
    "movie_degree_centrality = nx.degree_centrality(weighted_projection_movie)\n",
    "\n",
    "# Print the degree centrality for each node in the movie projection\n",
    "print(\"Degree centrality for movies:\")\n",
    "# for node, centrality in movie_degree_centrality.items():\n",
    "#     print(f\"Node {node}: {centrality}\")"
   ]
  },
  {
   "cell_type": "markdown",
   "metadata": {},
   "source": [
    "The most infuelncial user (max degree centrality), movie popularity (max degree centrality)"
   ]
  },
  {
   "cell_type": "code",
   "execution_count": null,
   "metadata": {},
   "outputs": [],
   "source": [
    "# Find the user with the highest degree centrality\n",
    "most_influential_user = max(degree_centrality_users, key=degree_centrality_users.get)\n",
    "centrality_value_user = degree_centrality_users[most_influential_user]\n",
    "\n",
    "# Add the 1000 to user ID\n",
    "most_influential_user += 10240\n",
    "\n",
    "print(f\"The most influential user is {most_influential_user} with degree centrality {centrality_value_user}\")\n",
    "\n",
    "\n",
    "# Find the movie with the highest degree centrality\n",
    "most_rated_movie = max(degree_centrality_movies, key=degree_centrality_movies.get)\n",
    "centrality_value_movie = degree_centrality_movies[most_rated_movie]\n",
    "\n",
    "print(f\"The most rated movie is {most_rated_movie} with degree centrality {centrality_value_movie}\")\n",
    "\n"
   ]
  },
  {
   "cell_type": "markdown",
   "metadata": {},
   "source": [
    "Followed Marie's way of getting the projection and it gets the same results, since the reuslts up there were suspicious "
   ]
  },
  {
   "cell_type": "code",
   "execution_count": null,
   "metadata": {},
   "outputs": [],
   "source": [
    "# Followed Marie's nodes from the exercises to get the degree centrality,since the achieved results looked suspicious.\n",
    "# Split the graph into 2 sets: user and movie nodes\n",
    "#user_nodes, movie_nodes = nx.algorithms.bipartite.basic.sets(G)\n",
    "nodes = nx.algorithms.bipartite.basic.sets(G)\n",
    "\n",
    "# turn the bipartite network into an adjacency matrix\n",
    "adjmat_user = nx.algorithms.bipartite.matrix.biadjacency_matrix(G, nodes[1])\n",
    "adjmat_movie = nx.algorithms.bipartite.matrix.biadjacency_matrix(G, nodes[0])\n",
    "\n",
    "# we then use the simple weighting method to get the weighted projection \n",
    "#projected_users = adjmat_users.dot(adjmat_user.T)\n",
    "#print(projected_users)\n",
    "#In your example, the entry (0, 486) 10 \n",
    "# indicates that user 0 is connected to user 486 with a strength of 10.\n",
    "\n",
    "\n",
    "projected_movies = adjmat_movies.dot(adjmat_movies.T) \n",
    "\n",
    "#Create weighted graphs from the weighted adjacency matrices\n",
    "#G_users = nx.Graph(projected_users)\n",
    "G_movies = nx.Graph(projected_movies)\n",
    "\n",
    "# Step 2: Calculate degree centrality for users and movies\n",
    "#degree_centrality_users = nx.degree_centrality(G_users)\n",
    "degree_centrality_movies = nx.degree_centrality(G_movies)\n",
    "\n",
    "# Print the degree centrality for users\n",
    "#for user, centrality in degree_centrality_users.items():\n",
    "    #print(f\"User {user} has degree centrality: {centrality}\")\n",
    "\n",
    "# Print the degree centrality for movies\n",
    "# for movie, centrality in degree_centrality_movies.items():\n",
    "#     print(f\"Movie {movie} has degree centrality: {centrality}\")\n"
   ]
  },
  {
   "cell_type": "markdown",
   "metadata": {},
   "source": [
    "### Research Question\n",
    "\n",
    "Feed\n",
    "\n",
    "#### Idea for an algorithm where projections take ratings into account in some way:\n",
    "1. Get input of movies you like, M, which have ratings by users U\n",
    "2. Project U and M onto U to get U1\n",
    "3. Project U1, and all movies they rated, onto the movies to get M1\n",
    "4. Recommend, from M1, the highest weight neighbor(s) of M.\n",
    "#### How to recommend movies based on user ratings, given a list of liked movies?\n",
    "\n",
    "* Potential problem: if our sample of users is too large, we are likely to just recommend the most rated movies, not specific movies you would like. To test this, we could plot correlation between movie degree and likelihood to recommend.\n",
    "\n",
    "* Sample users who liked the movie(s), project onto their rated movies, recommend highest weight neighbor of liked movies.\n",
    "\n",
    "* Construct similar movies to the ones you like, use this to find users like you, and iterate to converge on movies you will like.\n",
    "\n",
    "* Evaluation metric: For a sample of users, sampling their liked movies, how likely are we to recommend another movie that they like (reviewed highly)?\n",
    "\n",
    "* How to take movie genre into account?\n",
    "\n",
    "* Does the recommend movie graph have high genre homophily?\n",
    "* Can we take liked genre(s) as input?\n",
    "\n",
    "\n",
    "#### How to take mov\n",
    "#### Do users like movies from one genre or movies of different genres?"
   ]
  },
  {
   "cell_type": "code",
   "execution_count": 56,
   "outputs": [],
   "source": [
    "def find_common_neighbors(u, v):\n",
    "    N_u = G.neighbors(u)\n",
    "    N_v = G.neighbors(v)\n",
    "    return set(N_u) & set(N_v)\n"
   ],
   "metadata": {
    "collapsed": false,
    "ExecuteTime": {
     "end_time": "2023-11-22T09:11:26.202993900Z",
     "start_time": "2023-11-22T09:11:26.187281Z"
    }
   }
  },
  {
   "cell_type": "code",
   "execution_count": 57,
   "outputs": [],
   "source": [
    "def find_edge_weight_resource_alloc(u,v,degree_u):\n",
    "    N_u_v = find_common_neighbors(u,v)\n",
    "\n",
    "    weight_u_v = 0\n",
    "    for n in N_u_v:\n",
    "        w_u_n = G.get_edge_data(u,n)['weight']\n",
    "        w_n_v = G.get_edge_data(n,v)['weight']\n",
    "        weight_u_v += w_u_n / degree_u * w_n_v / G.degree(n)\n",
    "\n",
    "    return weight_u_v\n"
   ],
   "metadata": {
    "collapsed": false,
    "ExecuteTime": {
     "end_time": "2023-11-22T09:11:27.834297700Z",
     "start_time": "2023-11-22T09:11:27.806285700Z"
    }
   }
  },
  {
   "cell_type": "code",
   "execution_count": 54,
   "metadata": {
    "ExecuteTime": {
     "end_time": "2023-11-22T09:08:11.355476400Z",
     "start_time": "2023-11-22T09:07:31.968618Z"
    }
   },
   "outputs": [
    {
     "name": "stdout",
     "output_type": "stream",
     "text": [
      "DiGraph with 1682 nodes and 2827442 edges\n"
     ]
    }
   ],
   "source": [
    "# To build directed movie recommendation graph:\n",
    "# For each movie u\n",
    "#    For each other movie v\n",
    "#       Compute rating resource allocation weight from u to v\n",
    "#       add it as directed edge (u,v)\n",
    "\n",
    "def movie_res_alloc(movie_nodes):\n",
    "    dir_movie_graph = nx.DiGraph()\n",
    "    for u in movie_nodes:\n",
    "        degree_u = G.degree(u)\n",
    "        for v in movie_nodes:\n",
    "\n",
    "            # Prevent self-loops\n",
    "            if v == u:\n",
    "                continue\n",
    "\n",
    "            res_alloc_weight = find_edge_weight_resource_alloc(u,v,degree_u)\n",
    "            dir_movie_graph.add_edge(u, v, weight=res_alloc_weight)\n",
    "\n",
    "    return dir_movie_graph\n",
    "\n",
    "print(movie_res_alloc(movie_nodes))\n",
    "\n",
    "# TODO: Save and load graph\n",
    "    "
   ]
  },
  {
   "cell_type": "code",
   "execution_count": 55,
   "metadata": {
    "ExecuteTime": {
     "end_time": "2023-11-22T09:10:38.528869600Z",
     "start_time": "2023-11-22T09:09:37.204026900Z"
    }
   },
   "outputs": [
    {
     "name": "stdout",
     "output_type": "stream",
     "text": [
      "10 highest weight neighbors of 'Die Hard (1988)':\n"
     ]
    },
    {
     "data": {
      "text/plain": "[('Star Wars (1977)', 0.12370833097782767),\n ('Raiders of the Lost Ark (1981)', 0.11153252777168744),\n ('Return of the Jedi (1983)', 0.1029616426757219),\n ('Empire Strikes Back, The (1980)', 0.09214598346491441),\n ('Pulp Fiction (1994)', 0.08827064980213208),\n ('Fugitive, The (1993)', 0.08638205990518402),\n ('Terminator 2: Judgment Day (1991)', 0.0849162227200499),\n ('Silence of the Lambs, The (1991)', 0.08389589858871949),\n ('Terminator, The (1984)', 0.07906490935874808),\n ('Indiana Jones and the Last Crusade (1989)', 0.07469762722456644)]"
     },
     "execution_count": 55,
     "metadata": {},
     "output_type": "execute_result"
    }
   ],
   "source": [
    "# To recommend, find highest weight movie from movie you like\n",
    "\n",
    "def k_highest_weight_neighbors(k, liked_movie_title, graph):\n",
    "    \n",
    "    liked_movie_node = node_dict[liked_movie_title]\n",
    "    edges = list(graph.edges(liked_movie_node, data=True))\n",
    "    \n",
    "    neighbors_weights = [(neighbor, weight['weight']) for node, neighbor, weight in edges]\n",
    "    neighbors_weights = sorted(neighbors_weights, reverse=True, key=lambda x: x[1])\n",
    "\n",
    "    n_neighbors = [(title_dict[neighbor],weight) for neighbor, weight in neighbors_weights][:k]\n",
    "\n",
    "    print(f\"{k} highest weight neighbors of '{liked_movie_title}':\")\n",
    "    return n_neighbors\n",
    "\n",
    "dir_movie_graph = movie_res_alloc(movie_nodes)\n",
    "k_highest_weight_neighbors(10, 'Die Hard (1988)', dir_movie_graph)"
   ]
  },
  {
   "cell_type": "code",
   "execution_count": null,
   "metadata": {},
   "outputs": [],
   "source": [
    "# For multiple likes movies, find highest average weight movie"
   ]
  }
 ],
 "metadata": {
  "kernelspec": {
   "display_name": "Python 3 (ipykernel)",
   "language": "python",
   "name": "python3"
  },
  "language_info": {
   "codemirror_mode": {
    "name": "ipython",
    "version": 3
   },
   "file_extension": ".py",
   "mimetype": "text/x-python",
   "name": "python",
   "nbconvert_exporter": "python",
   "pygments_lexer": "ipython3",
   "version": "3.8.12"
  }
 },
 "nbformat": 4,
 "nbformat_minor": 4
}
