{
 "cells": [
  {
   "cell_type": "code",
   "execution_count": 75,
   "id": "205ba06f-0e54-48da-b86a-c782fce43a39",
   "metadata": {},
   "outputs": [],
   "source": [
    "import networkx as nx\n",
    "from networkx.algorithms import bipartite\n",
    "import numpy as np\n",
    "import random\n",
    "from scipy.stats import spearmanr\n",
    "\n",
    "# Loading data pathes and I/O functions from script\n",
    "from scripts.io import load_movie_titles, load_raw_bipartite, save_projection, load_projection, save_edgelist, projection_path\n",
    "\n",
    "# Loading reccomendation function\n",
    "from scripts.recommend import k_recommend_from_list, sort_average_weight"
   ]
  },
  {
   "cell_type": "markdown",
   "id": "e622e0f2-fdaf-4bd2-997e-70181ff118c4",
   "metadata": {},
   "source": [
    "## Loading dicts and graphs"
   ]
  },
  {
   "cell_type": "code",
   "execution_count": 4,
   "id": "3c14d5c3-75cf-4c7f-9c30-10bb549e2cb3",
   "metadata": {},
   "outputs": [
    {
     "name": "stdout",
     "output_type": "stream",
     "text": [
      "Movie titles loaded.\n",
      "Graph loaded.\n",
      "Projection loaded.\n",
      "Projection loaded.\n"
     ]
    }
   ],
   "source": [
    "title_dict, node_dict = load_movie_titles(\"movie-titles.txt\")\n",
    "\n",
    "G = load_raw_bipartite(\"full_bipartite.p\")\n",
    "\n",
    "simple_weights_movies = load_projection(\"simple_weights_movies.p\")\n",
    "rating_allocation_movies = load_projection(\"rating_allocation_movies.p\")"
   ]
  },
  {
   "cell_type": "markdown",
   "id": "38c72a3b-4cbd-4f2f-b8f6-9a210a59f815",
   "metadata": {},
   "source": [
    "# Evaluation\n",
    "    Cross-validation of movie recommendations from graph with empirical ratings by users.\n",
    "\n",
    "    For each user:\n",
    "        1. Sample k liked (highest rated) movies, M, from list of liked movies, L ((movie_node, weight) list).\n",
    "        2. Get movie recommendations, R ((movie_node, weight) list), for all movie nodes, based on M.\n",
    "        3. Sort R and L by movie_node, then discard movie_node from both.\n",
    "        5. Compute and store spearman rank correlation between R and L.\n",
    "        \n",
    "    Output average rank correlation for all users."
   ]
  },
  {
   "cell_type": "code",
   "execution_count": 146,
   "id": "9592ecee-be90-4428-93b6-fe66a6511f9d",
   "metadata": {},
   "outputs": [],
   "source": [
    "def evaluate(movie_graph, k=3, G=G, seed=None):\n",
    "    \"\"\"\n",
    "    Cross-validation of movie recommendations from graph with empirical ratings of users.\n",
    "    \n",
    "    params:\n",
    "        movie_graph (nx.Graph or nx.DiGraph) graph from which to recommend movies by highest weight neighbors\n",
    "        k (int) number of liked movies to sample from each user for recommendation\n",
    "        G (nx.Graph) bipartite graph of users and movies\n",
    "    \n",
    "    returns:\n",
    "        average_correlation \n",
    "    \"\"\"\n",
    "    \n",
    "    # Optional reproducibility of evaluation using random seed\n",
    "    if seed:\n",
    "        random.seed(seed)\n",
    "\n",
    "    user_nodes, movie_nodes = nx.algorithms.bipartite.basic.sets(G)\n",
    "\n",
    "    # list of correlation of each user's ratings and recommendations\n",
    "    correlations = []\n",
    "\n",
    "    # For each user\n",
    "    for user_node in user_nodes:\n",
    "\n",
    "        ##### 1. Sample k liked (highest rated) movies, M, from list of liked movies, L ((movie_node, weight) list)\n",
    "\n",
    "        movie_rating_tuples = [(movie_node,attr_dict['weight']) for movie_node, attr_dict in dict(G[user_node]).items()]  # All rated movies and ratings of user\n",
    "        \n",
    "        random.shuffle(movie_rating_tuples)  # Movies are shuffled, to randomize order of movies with the same rating\n",
    "        \n",
    "        movie_rating_tuples = sorted(movie_rating_tuples, reverse=True, key=lambda x:x[1])  # Movies are sorted by rating\n",
    "        \n",
    "        liked_movies = [movie_node for movie_node, weight in movie_rating_tuples[:k]]  # k highest rated movies are sampled\n",
    "\n",
    "        \n",
    "        ##### 2. Get movie recommendations, R ((title, weight) list), for all movie titles, based on M.\n",
    "        \n",
    "        k_recommend_from_list(k, movie_graph, liked_movies)\n",
    "        \n",
    "        ##### 3. Sort R and L by title, then discard the title from both.\n",
    "\n",
    "        \n",
    "        ##### 4. Compute and store spearman rank correlation between R and L.\n",
    "\n",
    "    ##### Return average correlation between recommendations and preferences.\n",
    "\n",
    "        \n",
    "\n"
   ]
  },
  {
   "cell_type": "code",
   "execution_count": 96,
   "id": "5ee1eee9-4f06-4af9-bb2b-6a72a8ad00f8",
   "metadata": {},
   "outputs": [],
   "source": [
    "movie_ratings = [(node,attr_dict['weight']) for node, attr_dict in dict(G[61]).items()]\n",
    "# rating_values = [r[1]['weight'] for r in movie_ratings]\n",
    "# np.percentile(rating_values, 50)\n",
    "# movie_ratings"
   ]
  },
  {
   "cell_type": "code",
   "execution_count": 143,
   "id": "7951bef8-87d9-4383-90f7-221545e1b4f2",
   "metadata": {},
   "outputs": [
    {
     "data": {
      "text/plain": [
       "[(10645, 5), (10763, 5), (10862, 5)]"
      ]
     },
     "execution_count": 143,
     "metadata": {},
     "output_type": "execute_result"
    }
   ],
   "source": [
    "k = 3\n"
   ]
  },
  {
   "cell_type": "code",
   "execution_count": 98,
   "id": "640f1c55-757f-464c-b8f7-10578f3fffcf",
   "metadata": {},
   "outputs": [],
   "source": [
    "  # sort_average_weight\n",
    "# sorted(movie_ratings, reverse=True, key=lambda x:x[1])\n",
    "# movie_ratings"
   ]
  }
 ],
 "metadata": {
  "kernelspec": {
   "display_name": "Python 3 (ipykernel)",
   "language": "python",
   "name": "python3"
  },
  "language_info": {
   "codemirror_mode": {
    "name": "ipython",
    "version": 3
   },
   "file_extension": ".py",
   "mimetype": "text/x-python",
   "name": "python",
   "nbconvert_exporter": "python",
   "pygments_lexer": "ipython3",
   "version": "3.8.12"
  }
 },
 "nbformat": 4,
 "nbformat_minor": 5
}
