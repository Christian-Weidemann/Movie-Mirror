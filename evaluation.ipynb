{
 "cells": [
  {
   "cell_type": "code",
   "execution_count": 147,
   "id": "205ba06f-0e54-48da-b86a-c782fce43a39",
   "metadata": {},
   "outputs": [
    {
     "ename": "ImportError",
     "evalue": "cannot import name 'evaluation_recommendation' from 'scripts.recommend' (C:\\Users\\Christian\\OneDrive\\ITU\\Network Analysis\\Project\\Networks\\scripts\\recommend.py)",
     "output_type": "error",
     "traceback": [
      "\u001b[1;31m---------------------------------------------------------------------------\u001b[0m",
      "\u001b[1;31mImportError\u001b[0m                               Traceback (most recent call last)",
      "Cell \u001b[1;32mIn[147], line 11\u001b[0m\n\u001b[0;32m      8\u001b[0m \u001b[38;5;28;01mfrom\u001b[39;00m \u001b[38;5;21;01mscripts\u001b[39;00m\u001b[38;5;21;01m.\u001b[39;00m\u001b[38;5;21;01mio\u001b[39;00m \u001b[38;5;28;01mimport\u001b[39;00m load_movie_titles, load_raw_bipartite, save_projection, load_projection, save_edgelist, projection_path\n\u001b[0;32m     10\u001b[0m \u001b[38;5;66;03m# Loading reccomendation function\u001b[39;00m\n\u001b[1;32m---> 11\u001b[0m \u001b[38;5;28;01mfrom\u001b[39;00m \u001b[38;5;21;01mscripts\u001b[39;00m\u001b[38;5;21;01m.\u001b[39;00m\u001b[38;5;21;01mrecommend\u001b[39;00m \u001b[38;5;28;01mimport\u001b[39;00m evaluation_recommendation, sort_average_weight\n",
      "\u001b[1;31mImportError\u001b[0m: cannot import name 'evaluation_recommendation' from 'scripts.recommend' (C:\\Users\\Christian\\OneDrive\\ITU\\Network Analysis\\Project\\Networks\\scripts\\recommend.py)"
     ]
    }
   ],
   "source": [
    "import networkx as nx\n",
    "from networkx.algorithms import bipartite\n",
    "import numpy as np\n",
    "import random\n",
    "from scipy.stats import spearmanr\n",
    "\n",
    "# Loading data pathes and I/O functions from script\n",
    "from scripts.io import load_movie_titles, load_raw_bipartite, save_projection, load_projection, save_edgelist, projection_path\n",
    "\n",
    "# Loading reccomendation function\n",
    "from scripts.recommend import evaluation_recommendation, sort_average_weight"
   ]
  },
  {
   "cell_type": "markdown",
   "id": "e622e0f2-fdaf-4bd2-997e-70181ff118c4",
   "metadata": {},
   "source": [
    "## Loading dicts and graphs"
   ]
  },
  {
   "cell_type": "code",
   "execution_count": 157,
   "id": "3c14d5c3-75cf-4c7f-9c30-10bb549e2cb3",
   "metadata": {},
   "outputs": [
    {
     "name": "stdout",
     "output_type": "stream",
     "text": [
      "Movie titles loaded.\n",
      "Graph loaded.\n",
      "Projection loaded.\n",
      "Projection loaded.\n"
     ]
    }
   ],
   "source": [
    "title_dict, node_dict = load_movie_titles(\"movie-titles.txt\")\n",
    "\n",
    "G = load_raw_bipartite(\"full_bipartite.p\")\n",
    "\n",
    "simple_weights_movies = load_projection(\"simple_weights_movies.p\")\n",
    "rating_allocation_movies = load_projection(\"rating_allocation_movies.p\")"
   ]
  },
  {
   "cell_type": "markdown",
   "id": "38c72a3b-4cbd-4f2f-b8f6-9a210a59f815",
   "metadata": {},
   "source": [
    "# Evaluation\n",
    "    Cross-validation of movie recommendations from graph with empirical ratings by users.\n",
    "\n",
    "    For each user:\n",
    "        1. Sample k liked (highest rated) movies, M, from list of liked movies, L ((movie_node, weight) list).\n",
    "        2. Get movie recommendations, R ((movie_node, weight) list), for all movie nodes, based on M.\n",
    "        3. Sort R and L by movie_node, then discard movie_node from both.\n",
    "        5. Compute and store spearman rank correlation between R and L.\n",
    "        \n",
    "    Output average rank correlation for all users."
   ]
  },
  {
   "cell_type": "code",
   "execution_count": 156,
   "id": "9592ecee-be90-4428-93b6-fe66a6511f9d",
   "metadata": {},
   "outputs": [],
   "source": [
    "def evaluate(movie_graph, k=3, G=G, seed=None):\n",
    "    \"\"\"\n",
    "    Cross-validation of movie recommendations from graph with empirical ratings of users.\n",
    "    \n",
    "    params:\n",
    "        movie_graph (nx.Graph or nx.DiGraph) graph from which to recommend movies by highest weight neighbors\n",
    "        k (int) number of liked movies to sample from each user for recommendation\n",
    "        G (nx.Graph) bipartite graph of users and movies\n",
    "    \n",
    "    returns:\n",
    "        average_correlation \n",
    "    \"\"\"\n",
    "    \n",
    "    # Optional reproducibility of evaluation using random seed\n",
    "    if seed:\n",
    "        random.seed(seed)\n",
    "\n",
    "    user_nodes, movie_nodes = nx.algorithms.bipartite.basic.sets(G)\n",
    "\n",
    "    # list of correlation of each user's ratings and recommendations\n",
    "    correlations = []\n",
    "    \n",
    "    # Proportion of correlations which have p>0.05\n",
    "    not_significant_correlations = 0\n",
    "\n",
    "    # For each user\n",
    "    for user_node in user_nodes:\n",
    "\n",
    "        ##### 1. Sample k liked (highest rated) movies\n",
    "        \n",
    "        # All rated movies and ratings of user\n",
    "        movie_rating_tuples = [(movie_node,attr_dict['weight']) for movie_node, attr_dict in dict(G[user_node]).items()]  \n",
    "        \n",
    "        # Movies are shuffled, to randomize order of movies with the same rating\n",
    "        random.shuffle(movie_rating_tuples)  \n",
    "        \n",
    "        # Movies are sorted by rating\n",
    "        movie_rating_tuples = sorted(movie_rating_tuples, reverse=True, key=lambda x:x[1])  \n",
    "\n",
    "        # k highest rated movies are sampled\n",
    "        liked_movie_nodes = [movie_node for movie_node, weight in movie_rating_tuples[:k]]  \n",
    "\n",
    "        ##### 2. Get movie recommendations\n",
    "        \n",
    "        recommended_movie_nodes = evaluation_recommendation(movie_graph, liked_movie_nodes)\n",
    "\n",
    "        # Removing sampled nodes from liked movies\n",
    "        liked_movie_nodes = [node for node in liked_movie_nodes if node not in liked_movie_nodes]\n",
    "        assert len(liked_movie_nodes) == len(recommended_movie_nodes)\n",
    "    \n",
    "        ##### 3. Sort R and L by node\n",
    "        liked_movie_nodes = sorted(liked_movie_nodes, key=lambda x:x[0])\n",
    "        recommended_movie_nodes = sorted(recommended_movie_nodes, key=lambda x:x[0])\n",
    "        \n",
    "        ##### 4. Compute and store spearman rank correlation (and p value) between R and L.\n",
    "        r, _ = spearmanr(liked_movie_nodes, recommended_movie_nodes)\n",
    "        if p > 0.05:\n",
    "            r = 0\n",
    "        correlations.append(r)\n",
    "\n",
    "    ##### Print average correlation between recommendations and preferences.\n",
    "    print(f\"Correlation: {np.mean(correlations):.3f}, sd: {np.std(correlations):.3f}, not-significant: {np.sum(correlations==0):.3f%}\")"
   ]
  },
  {
   "cell_type": "code",
   "execution_count": 158,
   "id": "640f1c55-757f-464c-b8f7-10578f3fffcf",
   "metadata": {},
   "outputs": [
    {
     "ename": "NameError",
     "evalue": "name 'evaluation_recommendation' is not defined",
     "output_type": "error",
     "traceback": [
      "\u001b[1;31m---------------------------------------------------------------------------\u001b[0m",
      "\u001b[1;31mNameError\u001b[0m                                 Traceback (most recent call last)",
      "Cell \u001b[1;32mIn[158], line 1\u001b[0m\n\u001b[1;32m----> 1\u001b[0m \u001b[43mevaluate\u001b[49m\u001b[43m(\u001b[49m\u001b[43msimple_weights_movies\u001b[49m\u001b[43m,\u001b[49m\u001b[43m \u001b[49m\u001b[43mk\u001b[49m\u001b[38;5;241;43m=\u001b[39;49m\u001b[38;5;241;43m3\u001b[39;49m\u001b[43m,\u001b[49m\u001b[43m \u001b[49m\u001b[43mseed\u001b[49m\u001b[38;5;241;43m=\u001b[39;49m\u001b[38;5;241;43m0\u001b[39;49m\u001b[43m)\u001b[49m\n",
      "Cell \u001b[1;32mIn[156], line 45\u001b[0m, in \u001b[0;36mevaluate\u001b[1;34m(movie_graph, k, G, seed)\u001b[0m\n\u001b[0;32m     41\u001b[0m liked_movie_nodes \u001b[38;5;241m=\u001b[39m [movie_node \u001b[38;5;28;01mfor\u001b[39;00m movie_node, weight \u001b[38;5;129;01min\u001b[39;00m movie_rating_tuples[:k]]  \n\u001b[0;32m     43\u001b[0m \u001b[38;5;66;03m##### 2. Get movie recommendations\u001b[39;00m\n\u001b[1;32m---> 45\u001b[0m recommended_movie_nodes \u001b[38;5;241m=\u001b[39m \u001b[43mevaluation_recommendation\u001b[49m(movie_graph, liked_movie_nodes)\n\u001b[0;32m     47\u001b[0m \u001b[38;5;66;03m# Removing sampled nodes from liked movies\u001b[39;00m\n\u001b[0;32m     48\u001b[0m liked_movie_nodes \u001b[38;5;241m=\u001b[39m [node \u001b[38;5;28;01mfor\u001b[39;00m node \u001b[38;5;129;01min\u001b[39;00m liked_movie_nodes \u001b[38;5;28;01mif\u001b[39;00m node \u001b[38;5;129;01mnot\u001b[39;00m \u001b[38;5;129;01min\u001b[39;00m liked_movie_nodes]\n",
      "\u001b[1;31mNameError\u001b[0m: name 'evaluation_recommendation' is not defined"
     ]
    }
   ],
   "source": [
    "evaluate(simple_weights_movies, k=3, seed=0)"
   ]
  }
 ],
 "metadata": {
  "kernelspec": {
   "display_name": "Python 3 (ipykernel)",
   "language": "python",
   "name": "python3"
  },
  "language_info": {
   "codemirror_mode": {
    "name": "ipython",
    "version": 3
   },
   "file_extension": ".py",
   "mimetype": "text/x-python",
   "name": "python",
   "nbconvert_exporter": "python",
   "pygments_lexer": "ipython3",
   "version": "3.8.12"
  }
 },
 "nbformat": 4,
 "nbformat_minor": 5
}
