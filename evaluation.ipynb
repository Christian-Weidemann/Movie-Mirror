{
 "cells": [
  {
   "cell_type": "code",
   "execution_count": 1,
   "id": "205ba06f-0e54-48da-b86a-c782fce43a39",
   "metadata": {},
   "outputs": [],
   "source": [
    "import networkx as nx\n",
    "from networkx.algorithms import bipartite\n",
    "\n",
    "# Loading data pathes and I/O functions from script\n",
    "from scripts.io import load_movie_titles, load_raw_bipartite, save_projection, load_projection, save_edgelist, projection_path\n",
    "\n",
    "# Loading reccomendation function\n",
    "from scripts.recommend import k_recommend_from_list"
   ]
  },
  {
   "cell_type": "markdown",
   "id": "e622e0f2-fdaf-4bd2-997e-70181ff118c4",
   "metadata": {},
   "source": [
    "## Loading titles and projections"
   ]
  },
  {
   "cell_type": "code",
   "execution_count": 2,
   "id": "3c14d5c3-75cf-4c7f-9c30-10bb549e2cb3",
   "metadata": {},
   "outputs": [
    {
     "name": "stdout",
     "output_type": "stream",
     "text": [
      "Movie titles loaded.\n",
      "Projection loaded.\n",
      "Projection loaded.\n"
     ]
    }
   ],
   "source": [
    "title_dict, node_dict = load_movie_titles(\"movie-titles.txt\")\n",
    "simple_weights_movies = load_projection(\"simple_weights_movies.p\")\n",
    "rating_allocation_movies = load_projection(\"rating_allocation_movies.p\")"
   ]
  },
  {
   "cell_type": "markdown",
   "id": "38c72a3b-4cbd-4f2f-b8f6-9a210a59f815",
   "metadata": {},
   "source": [
    "# Evaluation\n",
    "    Cross-validation of movie recommendations from graph with empirical ratings by users.\n",
    "\n",
    "    For each user:\n",
    "        1. Sample k liked (above average rating) movies, M.\n",
    "        2. Get movie recommendations, R ((title, weight) list), for all movie titles, based on M.\n",
    "        3. Get list of liked movies, L ((title, weight) list) based on rating.\n",
    "        4. Sort R and L by title, then discard the title from both.\n",
    "        5. Compute and store spearman rank correlation between R and L.\n",
    "        \n",
    "    Output average rank correlation for all users."
   ]
  },
  {
   "cell_type": "code",
   "execution_count": null,
   "id": "9592ecee-be90-4428-93b6-fe66a6511f9d",
   "metadata": {},
   "outputs": [],
   "source": [
    "def evaluate(k, liked_movie_title, graph):\n",
    "    \"\"\"\n",
    "    Cross-validation of movie recommendations from graph with empirical ratings of users.\n",
    "\n",
    "    For each user:\n",
    "        1. Sample k liked (above average rating) movies, M.\n",
    "        2. Get movie recommendations, R ((title, weight) list), for all movie titles, based on M.\n",
    "        3. Get list of liked movies, L ((title, weight) list) based on rating.\n",
    "        4. Sort R and L by title.\n",
    "        5. Compute and store spearman rank correlation between R and L.\n",
    "        \n",
    "    Outputs average correlation between recommendations and preferences.\n",
    "    \"\"\"\n",
    "    total_correlation = 0\n",
    "\n",
    "    # Step 1: Sample k liked movies, M\n",
    "    for user_node in user_nodes:\n",
    "        liked_movies = set(G.nodes[user_node]['movies'])\n",
    "        above_average_movies = [movie for movie in liked_movies if G.nodes[movie]['rating'] > G.graph['average_rating']]"
   ]
  },
  {
   "cell_type": "code",
   "execution_count": null,
   "id": "5ee1eee9-4f06-4af9-bb2b-6a72a8ad00f8",
   "metadata": {},
   "outputs": [],
   "source": []
  },
  {
   "cell_type": "code",
   "execution_count": null,
   "id": "640f1c55-757f-464c-b8f7-10578f3fffcf",
   "metadata": {},
   "outputs": [],
   "source": []
  }
 ],
 "metadata": {
  "kernelspec": {
   "display_name": "Python 3 (ipykernel)",
   "language": "python",
   "name": "python3"
  },
  "language_info": {
   "codemirror_mode": {
    "name": "ipython",
    "version": 3
   },
   "file_extension": ".py",
   "mimetype": "text/x-python",
   "name": "python",
   "nbconvert_exporter": "python",
   "pygments_lexer": "ipython3",
   "version": "3.8.12"
  }
 },
 "nbformat": 4,
 "nbformat_minor": 5
}
