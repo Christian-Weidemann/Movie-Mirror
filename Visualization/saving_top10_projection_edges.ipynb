{
 "cells": [
  {
   "cell_type": "code",
   "execution_count": 1,
   "metadata": {},
   "outputs": [],
   "source": [
    "import networkx as nx\n",
    "\n",
    "import sys\n",
    "sys.path.insert(1, '..')\n",
    "\n",
    "# Loading data pathes and I/O functions from script\n",
    "from scripts.io import load_projection, save_edgelist, load_movie_titles"
   ]
  },
  {
   "cell_type": "code",
   "execution_count": 2,
   "metadata": {},
   "outputs": [
    {
     "name": "stdout",
     "output_type": "stream",
     "text": [
      "Movie titles loaded.\n",
      "Projection loaded.\n",
      "Projection loaded.\n",
      "Projection loaded.\n"
     ]
    }
   ],
   "source": [
    "title_dict, node_dict = load_movie_titles(\"movie-titles.txt\")\n",
    "\n",
    "simple_weights = load_projection(\"top10_simple_weights_movies.p\")\n",
    "rating_allocation = load_projection(\"top10_rating_allocation_movies.p\")\n",
    "rating_genre_allocation = load_projection(\"top10_rating_genre_allocation_movies.p\")"
   ]
  },
  {
   "cell_type": "code",
   "execution_count": 3,
   "metadata": {},
   "outputs": [
    {
     "name": "stdout",
     "output_type": "stream",
     "text": [
      "Edgelist saved.\n",
      "Edgelist saved.\n",
      "Edgelist saved.\n"
     ]
    }
   ],
   "source": [
    "save_edgelist(simple_weights, \"top10_simple_weights\", title_dict)\n",
    "save_edgelist(rating_allocation, \"top10_rating_allocation\", title_dict)\n",
    "save_edgelist(rating_genre_allocation, \"top10_rating_genre_allocation\", title_dict)"
   ]
  }
 ],
 "metadata": {
  "kernelspec": {
   "display_name": "Python 3",
   "language": "python",
   "name": "python3"
  },
  "language_info": {
   "codemirror_mode": {
    "name": "ipython",
    "version": 3
   },
   "file_extension": ".py",
   "mimetype": "text/x-python",
   "name": "python",
   "nbconvert_exporter": "python",
   "pygments_lexer": "ipython3",
   "version": "3.10.13"
  }
 },
 "nbformat": 4,
 "nbformat_minor": 2
}
