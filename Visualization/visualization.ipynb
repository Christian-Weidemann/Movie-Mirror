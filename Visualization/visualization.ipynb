{
 "cells": [
  {
   "cell_type": "code",
   "execution_count": 12,
   "metadata": {},
   "outputs": [],
   "source": [
    "import networkx as nx\n",
    "import os\n",
    "import matplotlib.pyplot as plt\n",
    "from networkx.algorithms import bipartite\n",
    "from collections import Counter\n",
    "from networkx.linalg.graphmatrix import adjacency_matrix\n",
    "\n",
    "from statistics import mean\n",
    "\n",
    "import csv\n",
    "\n",
    "# Loading data pathes and I/O functions from script\n",
    "from scripts.io import load_movie_titles, load_raw_bipartite, save_projection, load_projection, save_edgelist, projection_path"
   ]
  },
  {
   "cell_type": "code",
   "execution_count": 2,
   "metadata": {},
   "outputs": [
    {
     "name": "stdout",
     "output_type": "stream",
     "text": [
      "Graph loaded.\n"
     ]
    }
   ],
   "source": [
    "title_dict, node_dict = load_movie_titles(\"movie-titles.txt\")\n",
    "G = load_raw_bipartite(\"full_bipartite.p\")\n",
    "\n",
    "# Split the graph into 2 sets: user and movie nodes\n",
    "user_nodes, movie_nodes = nx.algorithms.bipartite.basic.sets(G)"
   ]
  },
  {
   "cell_type": "code",
   "execution_count": 8,
   "metadata": {},
   "outputs": [
    {
     "name": "stdout",
     "output_type": "stream",
     "text": [
      "[50, 258, 100, 181, 294, 286, 288, 1, 300, 121, 174, 10405, 127, 56, 7, 98, 10655, 237, 117, 172, 222, 10013, 204, 313, 405, 79, 210, 151, 173, 69, 168, 748, 269, 257, 10450, 195, 423, 9, 276, 318, 22, 302, 96, 328, 15, 25, 118, 183, 10276, 216]\n"
     ]
    }
   ],
   "source": [
    "\n",
    "\n",
    "\n",
    "user_nodes, movie_nodes = nx.algorithms.bipartite.basic.sets(G)\n",
    "\n",
    "# Compute the degree centrality for each movie node\n",
    "degree_centrality = nx.bipartite.degree_centrality(G, movie_nodes)\n",
    "\n",
    "# Get the top 50 movie nodes based on degree centrality\n",
    "top_50_movies = sorted(degree_centrality, key=degree_centrality.get, reverse=True)[:50]\n",
    "\n",
    "# Print or use the top 50 movies\n",
    "print(top_50_movies)\n",
    "\n"
   ]
  },
  {
   "cell_type": "code",
   "execution_count": 9,
   "metadata": {},
   "outputs": [
    {
     "name": "stdout",
     "output_type": "stream",
     "text": [
      "Projection loaded.\n"
     ]
    }
   ],
   "source": [
    "#simple projection\n",
    "# Projecting on movies\n",
    "simple_weights_movies_path = \"simple_weights_movies.p\"\n",
    "\n",
    "if os.path.exists(projection_path+simple_weights_movies_path):\n",
    "    simple_weights_movies = load_projection(simple_weights_movies_path)\n",
    "else:\n",
    "    simple_weights_movies = bipartite.weighted_projected_graph(G, movie_nodes, ratio=True)\n",
    "    save_projection(simple_weights_movies, simple_weights_movies_path)\n"
   ]
  },
  {
   "cell_type": "code",
   "execution_count": 16,
   "metadata": {},
   "outputs": [
    {
     "name": "stdout",
     "output_type": "stream",
     "text": [
      "Projection loaded.\n",
      "Filtered edges saved to filtered_edges_allocation.csv\n"
     ]
    }
   ],
   "source": [
    "\n",
    "\n",
    "# Assuming you have already identified top 50 movie nodes in the bipartite network\n",
    "top_50_movies_bipartite = top_50_movies  # Replace [...] with the actual list of top 50 movie nodes\n",
    "\n",
    "# Load the simple projection\n",
    "simple_weights_movies_path = \"rating_allocation_movies.p\"\n",
    "\n",
    "if os.path.exists(projection_path + simple_weights_movies_path):\n",
    "    simple_weights_movies = load_projection(simple_weights_movies_path)\n",
    "else:\n",
    "    simple_weights_movies = bipartite.weighted_projected_graph(G, movie_nodes, ratio=True)\n",
    "    save_projection(simple_weights_movies, simple_weights_movies_path)\n",
    "\n",
    "# Filter edges in the simple projection to include only top 50 movies from the bipartite\n",
    "filtered_edges = [(node1, node2, simple_weights_movies[node1][node2]['weight'])\n",
    "                  for node1, node2 in simple_weights_movies.edges\n",
    "                  if node1 in top_50_movies_bipartite and node2 in top_50_movies_bipartite]\n",
    "\n",
    "# Create an edge list with movie names and write to CSV\n",
    "csv_file_path = \"filtered_edges_allocation.csv\"\n",
    "\n",
    "with open(csv_file_path, 'w', newline='') as csvfile:\n",
    "    fieldnames = ['Movie_Node_1', 'Movie_Node_2', 'Edge_Weight', 'Movie_Name_1', 'Movie_Name_2']\n",
    "    writer = csv.DictWriter(csvfile, fieldnames=fieldnames)\n",
    "    \n",
    "    # Write CSV header\n",
    "    writer.writeheader()\n",
    "\n",
    "    # Assuming title_dict is a dictionary mapping movie IDs to movie names\n",
    "    for edge in filtered_edges:\n",
    "        movie_name_1 = title_dict.get(edge[0], \"Unknown Movie\")\n",
    "        movie_name_2 = title_dict.get(edge[1], \"Unknown Movie\")\n",
    "        \n",
    "        # Write to CSV\n",
    "        writer.writerow({'Movie_Node_1': edge[0], 'Movie_Node_2': edge[1],\n",
    "                         'Edge_Weight': edge[2], 'Movie_Name_1': movie_name_1,\n",
    "                         'Movie_Name_2': movie_name_2})\n",
    "\n",
    "print(f\"Filtered edges saved to {csv_file_path}\")\n"
   ]
  },
  {
   "cell_type": "code",
   "execution_count": 18,
   "metadata": {},
   "outputs": [
    {
     "name": "stdout",
     "output_type": "stream",
     "text": [
      "Movie nodes and names saved to movie_nodes_and_names.csv\n"
     ]
    }
   ],
   "source": [
    "import csv\n",
    "\n",
    "# Assuming title_dict is a dictionary mapping movie IDs to movie names\n",
    "movie_nodes_to_lookup = [1, 7, 9, 15, 22, 25, 50, 56, 69, 79, 96, 98, 100, 117, 118, 121, 127, 151, 168, 172,\n",
    "                          173, 174, 181, 183, 195, 204, 210, 216, 222, 237, 257, 258, 269, 276, 286, 288,\n",
    "                          294, 300, 302, 313, 318, 328, 405, 423,748]\n",
    "\n",
    "movie_titles_to_lookup = [title_dict.get(node, \"Unknown Movie\") for node in movie_nodes_to_lookup]\n",
    "\n",
    "# Create a list of tuples with node and corresponding name\n",
    "result_data = list(zip(movie_nodes_to_lookup, movie_titles_to_lookup))\n",
    "\n",
    "# Save to CSV\n",
    "csv_file_path = \"movie_nodes_and_names.csv\"\n",
    "\n",
    "with open(csv_file_path, 'w', newline='') as csvfile:\n",
    "    fieldnames = ['Movie_Node', 'Movie_Name']\n",
    "    writer = csv.DictWriter(csvfile, fieldnames=fieldnames)\n",
    "    \n",
    "    # Write CSV header\n",
    "    writer.writeheader()\n",
    "\n",
    "    for node, title in result_data:\n",
    "        # Write to CSV\n",
    "        writer.writerow({'Movie_Node': node, 'Movie_Name': title})\n",
    "\n",
    "print(f\"Movie nodes and names saved to {csv_file_path}\")\n"
   ]
  },
  {
   "cell_type": "code",
   "execution_count": null,
   "metadata": {},
   "outputs": [],
   "source": []
  }
 ],
 "metadata": {
  "kernelspec": {
   "display_name": "Python 3",
   "language": "python",
   "name": "python3"
  },
  "language_info": {
   "codemirror_mode": {
    "name": "ipython",
    "version": 3
   },
   "file_extension": ".py",
   "mimetype": "text/x-python",
   "name": "python",
   "nbconvert_exporter": "python",
   "pygments_lexer": "ipython3",
   "version": "3.11.4"
  }
 },
 "nbformat": 4,
 "nbformat_minor": 2
}
