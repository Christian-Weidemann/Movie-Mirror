{
 "cells": [
  {
   "cell_type": "markdown",
   "metadata": {},
   "source": [
    "# Edge filtering\n",
    "Only keep the (say 10) highest weight out-edges for each movie."
   ]
  },
  {
   "cell_type": "code",
   "execution_count": 1,
   "metadata": {},
   "outputs": [],
   "source": [
    "import networkx as nx\n",
    "\n",
    "# Loading data pathes and I/O functions from script\n",
    "from scripts.io import save_projection, load_projection"
   ]
  },
  {
   "cell_type": "markdown",
   "metadata": {},
   "source": [
    "### Loading Projections"
   ]
  },
  {
   "cell_type": "code",
   "execution_count": 2,
   "metadata": {},
   "outputs": [
    {
     "name": "stdout",
     "output_type": "stream",
     "text": [
      "Projection loaded.\n",
      "Projection loaded.\n",
      "Projection loaded.\n"
     ]
    }
   ],
   "source": [
    "simple_weights_movies = load_projection(\"simple_weights_movies.p\")\n",
    "rating_allocation_movies = load_projection(\"rating_allocation_movies.p\")\n",
    "rating_genre_allocation_movies = load_projection(\"rating_genre_allocation_movies.p\")"
   ]
  },
  {
   "cell_type": "markdown",
   "metadata": {},
   "source": [
    "### Filtering top 10 weight edges for each node"
   ]
  },
  {
   "cell_type": "code",
   "execution_count": 3,
   "metadata": {},
   "outputs": [],
   "source": [
    "def filter_top_k_edges(graph, k):\n",
    "\n",
    "    # Uses same class as input graph\n",
    "    filtered_graph = graph.__class__()\n",
    "\n",
    "    for node in graph.nodes():\n",
    "        edges = graph.edges(node, data=True)\n",
    "\n",
    "        # Sort edges based on weights in descending order\n",
    "        sorted_edges = sorted(edges, key=lambda x: x[2]['weight'], reverse=True)\n",
    "\n",
    "        # Take the top k edges\n",
    "        top_k_edges = sorted_edges[:k]\n",
    "\n",
    "        # Add the selected edges to the new graph\n",
    "        filtered_graph.add_edges_from(top_k_edges)\n",
    "\n",
    "    return filtered_graph"
   ]
  },
  {
   "cell_type": "code",
   "execution_count": 4,
   "metadata": {},
   "outputs": [],
   "source": [
    "k = 10\n",
    "top10_simple_weights_movies = filter_top_k_edges(simple_weights_movies, k)\n",
    "top10_rating_allocation_movies = filter_top_k_edges(rating_allocation_movies, k)\n",
    "top10_rating_genre_allocation_movies = filter_top_k_edges(rating_genre_allocation_movies, k)"
   ]
  },
  {
   "cell_type": "markdown",
   "metadata": {},
   "source": [
    "### Saving filtered projections"
   ]
  },
  {
   "cell_type": "code",
   "execution_count": 9,
   "metadata": {},
   "outputs": [
    {
     "name": "stdout",
     "output_type": "stream",
     "text": [
      "Projection saved.\n",
      "Projection saved.\n",
      "Projection saved.\n"
     ]
    }
   ],
   "source": [
    "save_projection(top10_simple_weights_movies, \"top10_simple_weights_movies.p\")\n",
    "save_projection(top10_rating_allocation_movies, \"top10_rating_allocation_movies.p\")\n",
    "save_projection(top10_rating_genre_allocation_movies, \"top10_rating_genre_allocation_movies.p\")"
   ]
  }
 ],
 "metadata": {
  "kernelspec": {
   "display_name": "Python 3",
   "language": "python",
   "name": "python3"
  },
  "language_info": {
   "codemirror_mode": {
    "name": "ipython",
    "version": 3
   },
   "file_extension": ".py",
   "mimetype": "text/x-python",
   "name": "python",
   "nbconvert_exporter": "python",
   "pygments_lexer": "ipython3",
   "version": "3.10.13"
  }
 },
 "nbformat": 4,
 "nbformat_minor": 2
}
